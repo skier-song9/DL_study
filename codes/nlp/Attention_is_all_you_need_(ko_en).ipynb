{
  "cells": [
    {
      "cell_type": "markdown",
      "metadata": {
        "id": "rgnZOimXdN2V"
      },
      "source": [
        "#### **Attention is All You Need**\n",
        "\n",
        "**본 코드는 [나동빈님의 코드 실습](https://github.com/ndb796/Deep-Learning-Paper-Review-and-Practice/blob/master/code_practices/Attention_is_All_You_Need_Tutorial_(German_English).ipynb)을 참조한 코드 리뷰입니다.**\n",
        "\n",
        "**데이터셋을 불러오는 코드에 오류가 있어 새로운 데이터셋을 사용했습니다. 새로운 데이터셋을 사용했기 때문에 max_length 미설정 시 index 오류가 납니다.   모델 구조는 나동빈님의 코드를 그대로 사용하였고, 클래스 정의부 안에 세부 설명을 추가하였습니다.**"
      ]
    },
    {
      "cell_type": "code",
      "execution_count": null,
      "metadata": {
        "ExecuteTime": {
          "end_time": "2024-06-30T18:06:48.015698Z",
          "start_time": "2024-06-30T18:06:48.004842Z"
        },
        "colab": {
          "base_uri": "https://localhost:8080/"
        },
        "id": "b7gjy4bZ1aXc",
        "outputId": "eded8631-ae22-46a0-abb1-34625d9a271f"
      },
      "outputs": [
        {
          "output_type": "stream",
          "name": "stdout",
          "text": [
            "Collecting torchtext==0.6.0\n",
            "  Downloading torchtext-0.6.0-py3-none-any.whl (64 kB)\n",
            "\u001b[?25l     \u001b[90m━━━━━━━━━━━━━━━━━━━━━━━━━━━━━━━━━━━━━━━━\u001b[0m \u001b[32m0.0/64.2 kB\u001b[0m \u001b[31m?\u001b[0m eta \u001b[36m-:--:--\u001b[0m\r\u001b[2K     \u001b[90m━━━━━━━━━━━━━━━━━━━━━━━━━━━━━━━━━━━━━━━━\u001b[0m \u001b[32m64.2/64.2 kB\u001b[0m \u001b[31m1.9 MB/s\u001b[0m eta \u001b[36m0:00:00\u001b[0m\n",
            "\u001b[?25hRequirement already satisfied: tqdm in /usr/local/lib/python3.10/dist-packages (from torchtext==0.6.0) (4.66.4)\n",
            "Requirement already satisfied: requests in /usr/local/lib/python3.10/dist-packages (from torchtext==0.6.0) (2.31.0)\n",
            "Requirement already satisfied: torch in /usr/local/lib/python3.10/dist-packages (from torchtext==0.6.0) (2.3.0+cu121)\n",
            "Requirement already satisfied: numpy in /usr/local/lib/python3.10/dist-packages (from torchtext==0.6.0) (1.25.2)\n",
            "Requirement already satisfied: six in /usr/local/lib/python3.10/dist-packages (from torchtext==0.6.0) (1.16.0)\n",
            "Requirement already satisfied: sentencepiece in /usr/local/lib/python3.10/dist-packages (from torchtext==0.6.0) (0.1.99)\n",
            "Requirement already satisfied: charset-normalizer<4,>=2 in /usr/local/lib/python3.10/dist-packages (from requests->torchtext==0.6.0) (3.3.2)\n",
            "Requirement already satisfied: idna<4,>=2.5 in /usr/local/lib/python3.10/dist-packages (from requests->torchtext==0.6.0) (3.7)\n",
            "Requirement already satisfied: urllib3<3,>=1.21.1 in /usr/local/lib/python3.10/dist-packages (from requests->torchtext==0.6.0) (2.0.7)\n",
            "Requirement already satisfied: certifi>=2017.4.17 in /usr/local/lib/python3.10/dist-packages (from requests->torchtext==0.6.0) (2024.6.2)\n",
            "Requirement already satisfied: filelock in /usr/local/lib/python3.10/dist-packages (from torch->torchtext==0.6.0) (3.15.3)\n",
            "Requirement already satisfied: typing-extensions>=4.8.0 in /usr/local/lib/python3.10/dist-packages (from torch->torchtext==0.6.0) (4.12.2)\n",
            "Requirement already satisfied: sympy in /usr/local/lib/python3.10/dist-packages (from torch->torchtext==0.6.0) (1.12.1)\n",
            "Requirement already satisfied: networkx in /usr/local/lib/python3.10/dist-packages (from torch->torchtext==0.6.0) (3.3)\n",
            "Requirement already satisfied: jinja2 in /usr/local/lib/python3.10/dist-packages (from torch->torchtext==0.6.0) (3.1.4)\n",
            "Requirement already satisfied: fsspec in /usr/local/lib/python3.10/dist-packages (from torch->torchtext==0.6.0) (2023.6.0)\n",
            "Collecting nvidia-cuda-nvrtc-cu12==12.1.105 (from torch->torchtext==0.6.0)\n",
            "  Using cached nvidia_cuda_nvrtc_cu12-12.1.105-py3-none-manylinux1_x86_64.whl (23.7 MB)\n",
            "Collecting nvidia-cuda-runtime-cu12==12.1.105 (from torch->torchtext==0.6.0)\n",
            "  Using cached nvidia_cuda_runtime_cu12-12.1.105-py3-none-manylinux1_x86_64.whl (823 kB)\n",
            "Collecting nvidia-cuda-cupti-cu12==12.1.105 (from torch->torchtext==0.6.0)\n",
            "  Using cached nvidia_cuda_cupti_cu12-12.1.105-py3-none-manylinux1_x86_64.whl (14.1 MB)\n",
            "Collecting nvidia-cudnn-cu12==8.9.2.26 (from torch->torchtext==0.6.0)\n",
            "  Using cached nvidia_cudnn_cu12-8.9.2.26-py3-none-manylinux1_x86_64.whl (731.7 MB)\n",
            "Collecting nvidia-cublas-cu12==12.1.3.1 (from torch->torchtext==0.6.0)\n",
            "  Using cached nvidia_cublas_cu12-12.1.3.1-py3-none-manylinux1_x86_64.whl (410.6 MB)\n",
            "Collecting nvidia-cufft-cu12==11.0.2.54 (from torch->torchtext==0.6.0)\n",
            "  Using cached nvidia_cufft_cu12-11.0.2.54-py3-none-manylinux1_x86_64.whl (121.6 MB)\n",
            "Collecting nvidia-curand-cu12==10.3.2.106 (from torch->torchtext==0.6.0)\n",
            "  Using cached nvidia_curand_cu12-10.3.2.106-py3-none-manylinux1_x86_64.whl (56.5 MB)\n"
          ]
        }
      ],
      "source": [
        "!pip install torchtext==0.6.0"
      ]
    },
    {
      "cell_type": "code",
      "execution_count": null,
      "metadata": {
        "ExecuteTime": {
          "end_time": "2024-06-30T18:06:51.307496Z",
          "start_time": "2024-06-30T18:06:51.303868Z"
        },
        "id": "tbQzI6V1a2m_"
      },
      "outputs": [],
      "source": [
        "%%capture\n",
        "!pip install -U pip setuptools wheel\n",
        "\n",
        "!pip install -U spacy"
      ]
    },
    {
      "cell_type": "code",
      "execution_count": null,
      "metadata": {
        "ExecuteTime": {
          "end_time": "2024-06-30T18:07:25.220263Z",
          "start_time": "2024-06-30T18:07:25.204486Z"
        },
        "id": "t3RcSfla9vH5"
      },
      "outputs": [],
      "source": [
        "!python -m spacy download ko_core_news_sm # 한국어 모듈 다운\n",
        "!python -m spacy download en_core_web_sm # 영어 모듈 다운"
      ]
    },
    {
      "cell_type": "code",
      "execution_count": null,
      "metadata": {
        "ExecuteTime": {
          "end_time": "2024-06-30T18:07:46.265596Z",
          "start_time": "2024-06-30T18:07:41.864079Z"
        },
        "id": "UfOdc9FSd7xt"
      },
      "outputs": [],
      "source": [
        "import spacy\n",
        "import os\n",
        "\n",
        "spacy_ko = spacy.load('ko_core_news_sm') # 한국어 토큰화(tokenization)\n",
        "spacy_en = spacy.load('en_core_web_sm') # 영어 토큰화(tokenization)"
      ]
    },
    {
      "cell_type": "code",
      "execution_count": null,
      "metadata": {
        "ExecuteTime": {
          "end_time": "2024-06-30T18:07:50.019872Z",
          "start_time": "2024-06-30T18:07:50.016717Z"
        },
        "id": "5DoiaL8eu9iz"
      },
      "outputs": [],
      "source": [
        "from google.colab import drive\n",
        "drive.mount('/content/drive')"
      ]
    },
    {
      "cell_type": "code",
      "execution_count": null,
      "metadata": {
        "ExecuteTime": {
          "end_time": "2024-06-30T18:07:55.098962Z",
          "start_time": "2024-06-30T18:07:55.086766Z"
        },
        "id": "eet4iWy_d8s7"
      },
      "outputs": [],
      "source": [
        "# 간단히 토큰화(tokenization) 기능 써보기\n",
        "tokenized = spacy_en.tokenizer(\"Hello my name is Paul\")\n",
        "tokenized_ko = spacy_ko.tokenizer(\"안녕 나는 폴이야\")\n",
        "for i, token in enumerate(tokenized):\n",
        "    print(f\"인덱스 {i}: {token.text}\")\n",
        "\n",
        "for i, token in enumerate(tokenized_ko):\n",
        "    print(f\"인덱스 {i}: {token.text}\")\n"
      ]
    },
    {
      "cell_type": "markdown",
      "metadata": {
        "id": "iqhzmLvjeFZE"
      },
      "source": [
        "*나동빈님의 코드를 그대로 사용한 부분입니다.*\n",
        "* 영어(English) 및 한국어(Korean) **토큰화 함수** 정의"
      ]
    },
    {
      "cell_type": "code",
      "execution_count": null,
      "metadata": {
        "ExecuteTime": {
          "end_time": "2024-06-30T18:08:00.142906Z",
          "start_time": "2024-06-30T18:08:00.126113Z"
        },
        "id": "USWSV869d-s7"
      },
      "outputs": [],
      "source": [
        "# 한국어 문장을 토큰화 하는 함수 (순서를 뒤집지 않음)\n",
        "def tokenize_ko(text):\n",
        "    return [token.text for token in spacy_ko.tokenizer(text)]\n",
        "\n",
        "# 영어 문장을 토큰화 하는 함수\n",
        "def tokenize_en(text):\n",
        "    return [token.text for token in spacy_en.tokenizer(text)]"
      ]
    },
    {
      "cell_type": "markdown",
      "metadata": {
        "id": "w6xmzcl6OyLI"
      },
      "source": [
        "*나동빈님의 코드를 그대로 사용한 부분입니다.*"
      ]
    },
    {
      "cell_type": "code",
      "execution_count": null,
      "metadata": {
        "ExecuteTime": {
          "end_time": "2024-06-30T18:08:02.136352Z",
          "start_time": "2024-06-30T18:08:02.077080Z"
        },
        "id": "r_dSDRtReGnU"
      },
      "outputs": [],
      "source": [
        "from torchtext.data import Field, BucketIterator\n",
        "\n",
        "# Field 라이브러리 : 텍스트 전처리, 토큰화 등에 사용되는 기능을 가진 도구.\n",
        "# 번역의 입력값인 source(SRC)는 한국어, 번역 결과인 target(TRG)는 영어 설정.\n",
        "SRC = Field(tokenize=tokenize_ko, init_token=\"<sos>\", eos_token=\"<eos>\", lower=True, batch_first=True)\n",
        "TRG = Field(tokenize=tokenize_en, init_token=\"<sos>\", eos_token=\"<eos>\", lower=True, batch_first=True)"
      ]
    },
    {
      "cell_type": "code",
      "execution_count": null,
      "metadata": {
        "ExecuteTime": {
          "end_time": "2024-06-30T18:10:32.022588Z",
          "start_time": "2024-06-30T18:08:31.747744Z"
        },
        "id": "RIguYxu2APVN"
      },
      "outputs": [],
      "source": [
        "import pandas as pd\n",
        "# load dataset\n",
        "file_path = '/content/drive/MyDrive/Colab Notebooks/data/kr-en/'\n",
        "# file_path = '../../data/kr-en/'\n",
        "\n",
        "for idx,file in enumerate(os.listdir(file_path)):\n",
        "    if file.endswith('.xlsx'):\n",
        "        globals()[f\"df{idx}\"] = pd.read_excel(os.path.join(file_path, file))\n",
        "\n",
        "df0.head(), df1.head()"
      ]
    },
    {
      "cell_type": "code",
      "execution_count": null,
      "metadata": {
        "id": "tP83_qiqbwnR"
      },
      "outputs": [],
      "source": [
        "idx"
      ]
    },
    {
      "cell_type": "code",
      "execution_count": null,
      "metadata": {
        "ExecuteTime": {
          "end_time": "2024-06-30T18:11:40.617997Z",
          "start_time": "2024-06-30T18:11:40.604909Z"
        },
        "id": "t0itnFBYEF9a"
      },
      "outputs": [],
      "source": [
        "# 데이터프레임의 컬럼 확인 -> 한국어와 영어 문장 컬럼만 남길 것.\n",
        "for i in range(idx):\n",
        "    print(globals()[f\"df{i}\"].columns)\n",
        "    print(globals()[f\"df{i}\"]['원문'][0])"
      ]
    },
    {
      "cell_type": "code",
      "execution_count": null,
      "metadata": {
        "ExecuteTime": {
          "end_time": "2024-06-30T18:11:52.475155Z",
          "start_time": "2024-06-30T18:11:51.975089Z"
        },
        "id": "iFtlIs9jFLNn"
      },
      "outputs": [],
      "source": [
        "# 원문(한국어)은 src, 번역문(영어)은 trg으로 컬럼 이름 변경 후 하나의 데이터프레임으로 합치기\n",
        "kr_en = pd.DataFrame({'src':[],'trg':[]})\n",
        "for i in range(idx):\n",
        "    globals()[f\"df{i}\"].rename(columns={'원문':'src', '번역문':'trg'}, inplace=True)\n",
        "    kr_en = pd.concat([kr_en, globals()[f\"df{i}\"][['src','trg']]],axis=0)\n",
        "print(kr_en.shape)\n",
        "kr_en.head()"
      ]
    },
    {
      "cell_type": "code",
      "execution_count": null,
      "metadata": {
        "ExecuteTime": {
          "end_time": "2024-06-30T18:12:02.839819Z",
          "start_time": "2024-06-30T18:11:59.626151Z"
        },
        "id": "gQnkdbYfLlgP"
      },
      "outputs": [],
      "source": [
        "# train, validation, test 데이터셋 분할\n",
        "from sklearn.model_selection import train_test_split\n",
        "\n",
        "train_data, test_data = train_test_split(kr_en, test_size=0.15, random_state=42)\n",
        "train_data, valid_data = train_test_split(train_data, test_size=0.15, random_state=42)\n",
        "\n",
        "train_data.reset_index(drop=True,inplace=True)\n",
        "valid_data.reset_index(drop=True,inplace=True)\n",
        "test_data.reset_index(drop=True,inplace=True)\n",
        "\n",
        "# 데이터가 너무 많으니 조금 줄인다.\n",
        "train_data = train_data.iloc[:500000]\n",
        "valid_data = valid_data.iloc[:70000]\n",
        "test_data = test_data.iloc[:70000]\n",
        "\n",
        "print(f\"학습 데이터셋(training dataset) 크기: {len(train_data)}개\")\n",
        "print(f\"평가 데이터셋(validation dataset) 크기: {len(valid_data)}개\")\n",
        "print(f\"테스트 데이터셋(testing dataset) 크기: {len(test_data)}개\")"
      ]
    },
    {
      "cell_type": "code",
      "execution_count": null,
      "metadata": {
        "id": "DWLm5WQubwnT"
      },
      "outputs": [],
      "source": [
        "### 데이터셋의 Max_Length 구하기\n",
        "# 모든 셀의 문장 길이 계산\n",
        "max_length = 0\n",
        "for col in ['src', 'trg']:\n",
        "    for sentence in train_data[col]:\n",
        "        words = sentence.split()\n",
        "        length = len(words)\n",
        "        if length > max_length:\n",
        "            max_length = length\n",
        "for col in ['src', 'trg']:\n",
        "    for sentence in valid_data[col]:\n",
        "        words = sentence.split()\n",
        "        length = len(words)\n",
        "        if length > max_length:\n",
        "            max_length = length\n",
        "for col in ['src', 'trg']:\n",
        "    for sentence in test_data[col]:\n",
        "        words = sentence.split()\n",
        "        length = len(words)\n",
        "        if length > max_length:\n",
        "            max_length = length\n",
        "print(max_length)"
      ]
    },
    {
      "cell_type": "code",
      "execution_count": null,
      "metadata": {
        "ExecuteTime": {
          "end_time": "2024-06-30T18:15:42.320150Z",
          "start_time": "2024-06-30T18:15:11.003077Z"
        },
        "id": "-L0i6y8QL7Ga"
      },
      "outputs": [],
      "source": [
        "# 데이터셋 분할을 위해 TabularDataset 사용하기 위해 kr_en 데이터셋을 다시 파일로 저장한 후 불러온다.\n",
        "train_data.to_csv(os.path.join(file_path,'train.csv'),index=False)\n",
        "valid_data.to_csv(os.path.join(file_path,'valid.csv'),index=False)\n",
        "test_data.to_csv(os.path.join(file_path,'test.csv'),index=False)\n",
        "\n",
        "### train, valid, test.csv를 kr-en/ 디렉토리에 저장하기 때문에 만약 코드를 처음부터 다시 시작한다면\n",
        "# for idx,file in enumerate(os.listdir(file_path)): > 여기 데이터셋 로드하는 코드에서\n",
        "# idx가 저 csv파일까지도 포함해서 에러 날 수 있으니 train,valid,test.csv를 삭제하고 다시 시작해주세요.\n",
        "\n",
        "from torchtext.data import Field, TabularDataset, BucketIterator\n",
        "train_dataset, valid_dataset, test_dataset = TabularDataset.splits(\n",
        "    path=file_path,\n",
        "    train='train.csv',\n",
        "    validation='valid.csv',\n",
        "    test='test.csv',\n",
        "    format='csv',\n",
        "    fields=[('src',SRC), ('trg',TRG)]\n",
        ")\n",
        "# 데이터셋 확인\n",
        "print(f'Number of training examples: {len(train_dataset.examples)}')\n",
        "print(f'Number of validation examples: {len(valid_dataset.examples)}')\n",
        "print(f'Number of testing examples: {len(test_dataset.examples)}')\n",
        "print(vars(train_dataset.examples[1])['src'])\n",
        "print(vars(train_dataset.examples[1])['trg'])"
      ]
    },
    {
      "cell_type": "code",
      "execution_count": null,
      "metadata": {
        "ExecuteTime": {
          "end_time": "2024-06-30T18:15:54.518176Z",
          "start_time": "2024-06-30T18:15:54.503501Z"
        },
        "id": "LvEgqofGSb7a"
      },
      "outputs": [],
      "source": [
        "vars(train_dataset.examples[0])"
      ]
    },
    {
      "cell_type": "markdown",
      "metadata": {
        "id": "ekQys1HpegX_"
      },
      "source": [
        "*나동빈님의 코드를 그대로 사용한 부분입니다.*\n",
        "\n",
        "* **필드(field)** 객체의 **build_vocab** 메서드를 이용해 영어와 한국어의 단어 사전을 생성합니다.\n",
        "  * **최소 2번 이상** 등장한 단어만을 선택합니다."
      ]
    },
    {
      "cell_type": "code",
      "execution_count": null,
      "metadata": {
        "ExecuteTime": {
          "end_time": "2024-06-30T18:16:00.118801Z",
          "start_time": "2024-06-30T18:15:58.803123Z"
        },
        "id": "X4A5ksMyefKy"
      },
      "outputs": [],
      "source": [
        "SRC.build_vocab(train_dataset, min_freq=2)\n",
        "TRG.build_vocab(train_dataset, min_freq=2)\n",
        "\n",
        "print(f\"len(SRC): {len(SRC.vocab)}\")\n",
        "print(f\"len(TRG): {len(TRG.vocab)}\")"
      ]
    },
    {
      "cell_type": "markdown",
      "metadata": {
        "id": "HEiyx-8CO2C2"
      },
      "source": [
        "*나동빈님의 코드를 그대로 사용한 부분입니다.*"
      ]
    },
    {
      "cell_type": "code",
      "execution_count": null,
      "metadata": {
        "ExecuteTime": {
          "end_time": "2024-06-30T18:16:04.687544Z",
          "start_time": "2024-06-30T18:16:04.675424Z"
        },
        "id": "xfo21o_5ehmK"
      },
      "outputs": [],
      "source": [
        "print(TRG.vocab.stoi[\"abcabc\"]) # 없는 단어: 0\n",
        "print(TRG.vocab.stoi[TRG.pad_token]) # 패딩(padding): 1\n",
        "print(TRG.vocab.stoi[\"<sos>\"]) # <sos>: 2\n",
        "print(TRG.vocab.stoi[\"<eos>\"]) # <eos>: 3\n",
        "print(TRG.vocab.stoi[\"hello\"])\n",
        "print(TRG.vocab.stoi[\"need\"])"
      ]
    },
    {
      "cell_type": "markdown",
      "metadata": {
        "id": "rHlAcqrGekNm"
      },
      "source": [
        "*나동빈님의 코드를 그대로 사용한 부분입니다.*\n",
        "* 한 문장에 포함된 단어가 순서대로 나열된 상태로 네트워크에 입력되어야 합니다.\n",
        "    * 따라서 하나의 배치에 포함된 문장들이 가지는 단어의 개수가 유사하도록 만들면 좋습니다.\n",
        "    * 이를 위해 BucketIterator를 사용합니다.\n",
        "    * **배치 크기(batch size)**: 128\n",
        "\n",
        "[comment] <br>\n",
        "iterator들에는 문장들이 다음과 같이 저장된다. <br>\n",
        "각 batch에는 128개의 문장들이 들어있다. <br>\n",
        "각 batch에 들어있는 128개의 문장들은 batch.src.shape[1]의 값인 src_len 길이의 토큰으로 구성된 문장들이다.<br>\n",
        "즉, batch.src.shape[1]값이 36이면 36개의 토큰으로 구성된 서로 다른 문장들이 하나의 batch에 128개 있다는 것이다. <br>\n",
        "그리고 각 batch마다 src_len 값은 다를 수 있다.<br>\n",
        "하나의 batch 안에 당연히 src_len길이에 해당하는 문장들만 있는 것은 아니고, src_len보다 짧은 문장들도 있다. 이런 문장들은 남은 길이의 토큰을 \\<pad>토큰으로 채우게 되고 \\<pad> 토큰의 인덱스값은 1이다."
      ]
    },
    {
      "cell_type": "code",
      "execution_count": null,
      "metadata": {
        "ExecuteTime": {
          "end_time": "2024-06-30T18:16:21.777715Z",
          "start_time": "2024-06-30T18:16:21.655471Z"
        },
        "id": "DSJQUC0meifi"
      },
      "outputs": [],
      "source": [
        "import torch\n",
        "# CUDA_LAUNCH_BLOCKING=1\n",
        "device = torch.device('cuda' if torch.cuda.is_available() else 'cpu')\n",
        "print(device)\n",
        "\n",
        "BATCH_SIZE = 128\n",
        "\n",
        "# 일반적인 데이터 로더(data loader)의 iterator와 유사하게 사용 가능\n",
        "train_iterator, valid_iterator, test_iterator = BucketIterator.splits(\n",
        "    (train_dataset, valid_dataset, test_dataset),\n",
        "    batch_size=BATCH_SIZE,\n",
        "    sort=False,\n",
        "    device=device)\n",
        "\n",
        "for i, batch in enumerate(train_iterator):\n",
        "    src = batch.src\n",
        "    trg = batch.trg\n",
        "    print(src[0].shape)\n",
        "    print(f\"첫 번째 배치 크기: {src.shape}\")\n",
        "\n",
        "    for b in range(src.shape[0]):\n",
        "        print('batch :',b)\n",
        "        if b == 2:\n",
        "            break\n",
        "        for i in range(src.shape[1]):\n",
        "            print(f\"인덱스 {i}: {src[b][i].item()}\", end=\" \") # 여기에서는 [Seq_num, Seq_len]\n",
        "\n",
        "    break\n",
        "print()"
      ]
    },
    {
      "cell_type": "markdown",
      "metadata": {
        "id": "2-HT1C6kfQG6"
      },
      "source": [
        "      \n",
        "*🫡아래부터는 모두 나동빈님의 코드를 그대로 사용한 부분입니다. 클래스 정의부에 구체적인 설명을 추가했습니다.*\n",
        "#### **Multi Head Attention 아키텍처**\n",
        "\n",
        "* 어텐션(attention)은 <b>세 가지 요소</b>를 입력으로 받습니다.\n",
        "    * <b>쿼리(queries)</b>\n",
        "    * <b>키(keys)</b>\n",
        "    * <b>값(values)</b>\n",
        "    * 현재 구현에서는 Query, Key, Value의 차원이 모두 같습니다.\n",
        "* 하이퍼 파라미터(hyperparameter)\n",
        "    * **hidden_dim**: 하나의 단어에 대한 임베딩 차원\n",
        "    * **n_heads**: 헤드(head)의 개수 = scaled dot-product attention의 개수\n",
        "    * **dropout_ratio**: 드롭아웃(dropout) 비율"
      ]
    },
    {
      "cell_type": "code",
      "execution_count": null,
      "metadata": {
        "ExecuteTime": {
          "end_time": "2024-06-30T18:16:33.608113Z",
          "start_time": "2024-06-30T18:16:33.595000Z"
        },
        "id": "ohBIfgOJiL0a"
      },
      "outputs": [],
      "source": [
        "import torch.nn as nn\n",
        "\n",
        "class MultiHeadAttentionLayer(nn.Module):\n",
        "    def __init__(self, hidden_dim, n_heads, dropout_ratio, device='cpu'):\n",
        "        super().__init__()\n",
        "\n",
        "        assert hidden_dim % n_heads == 0\n",
        "\n",
        "        self.hidden_dim = hidden_dim # 임베딩 차원\n",
        "        self.n_heads = n_heads # 헤드(head)의 개수: 서로 다른 어텐션(attention) 컨셉의 수\n",
        "        self.head_dim = hidden_dim // n_heads # 각 헤드(head)에서의 임베딩 차원\n",
        "\n",
        "        self.fc_q = nn.Linear(hidden_dim, hidden_dim) # Query 값에 적용될 FC 레이어\n",
        "        self.fc_k = nn.Linear(hidden_dim, hidden_dim) # Key 값에 적용될 FC 레이어\n",
        "        self.fc_v = nn.Linear(hidden_dim, hidden_dim) # Value 값에 적용될 FC 레이어\n",
        "\n",
        "        self.fc_o = nn.Linear(hidden_dim, hidden_dim)\n",
        "\n",
        "        self.dropout = nn.Dropout(dropout_ratio)\n",
        "\n",
        "        self.scale = torch.sqrt(torch.FloatTensor([self.head_dim])).to(device)\n",
        "\n",
        "    def forward(self, query, key, value, mask = None):\n",
        "\n",
        "        batch_size = query.shape[0]\n",
        "\n",
        "        # query_len, key_len, value_len 모두 src_len과 동일.\n",
        "        # query: [batch_size, query_len, hidden_dim]\n",
        "        # key: [batch_size, key_len, hidden_dim]\n",
        "        # value: [batch_size, value_len, hidden_dim]\n",
        "\n",
        "        Q = self.fc_q(query)\n",
        "        K = self.fc_k(key)\n",
        "        V = self.fc_v(value)\n",
        "\n",
        "        # Q: [batch_size, query_len, hidden_dim]\n",
        "        # K: [batch_size, key_len, hidden_dim]\n",
        "        # V: [batch_size, value_len, hidden_dim]\n",
        "\n",
        "        # hidden_dim → n_heads X head_dim 형태로 변형\n",
        "        # n_heads(h)개의 서로 다른 어텐션(attention) 컨셉을 학습하도록 유도\n",
        "        Q = Q.view(batch_size, -1, self.n_heads, self.head_dim).permute(0, 2, 1, 3) # -1 = query_len\n",
        "        K = K.view(batch_size, -1, self.n_heads, self.head_dim).permute(0, 2, 1, 3)\n",
        "        V = V.view(batch_size, -1, self.n_heads, self.head_dim).permute(0, 2, 1, 3)\n",
        "        # tensor_obj.permute(0,2,1,3) >> 기존에 [0,1,2,3] 순서였던 데이터를 [0,2,1,3]으로 차원을 변형한 것.\n",
        "\n",
        "        # Q: [batch_size, n_heads, query_len, head_dim]\n",
        "        # K: [batch_size, n_heads, key_len, head_dim]\n",
        "        # V: [batch_size, n_heads, value_len, head_dim]\n",
        "\n",
        "        # Attention Energy 계산\n",
        "        energy = torch.matmul(Q, K.permute(0, 1, 3, 2)) / self.scale\n",
        "        # 3차원 이상의 행렬을 행렬곱할 때도 2차원과 마찬가지로 마지막 두 차원의 행렬곱만 맞춰주면 된다.\n",
        "        '''\n",
        "        shape이 (3,4,5)인 행렬 A와 (3,5,4)인 행렬 B는 뒤의 2개 차원이 (4,5) x (5,4)로 행렬곱이 가능하므로 AxB가 가능하다. >> 결과는 (3,4,4)가 된다.\n",
        "        Q: [batch_size, n_heads, query_len, head_dim]\n",
        "        K: [batch_size, n_heads, key_len, head_dim]\n",
        "        두 행렬을 곱하려면 두 행렬의 뒤의 두 차원을 맞춰줘야 한다.\n",
        "        K를 [batch_size, n_heads, head_dim, key_len] 이렇게 바꿔주면 되므로 permute(0,1,3,2)로 뒤의 두 차원을 변경해준다.\n",
        "        '''\n",
        "        # Attention을 계산할 때, 논문에서는 sqrt(K_dim)으로 나누어 attention energy 값을 정규화하는 역할을 했다.\n",
        "        # MultiHead이므로 각 Head에서의 K_dim 은 hidden_dim // n_heads가 되기 때문에 self.scale은 sqrt(hidden_dim//n_heads)인 것이다.\n",
        "\n",
        "        # energy: [batch_size, n_heads, query_len, key_len]\n",
        "\n",
        "        # 마스크(mask)를 사용하는 경우\n",
        "        if mask is not None:\n",
        "            # 마스크(mask) 값이 0인 부분을 -1e10으로 채우기\n",
        "            energy = energy.masked_fill(mask==0, -1e10)\n",
        "            '''\n",
        "            src_mask의 shape이 (batch_size, 1, 1, src_len)이었다.\n",
        "            energy.shape = [batch_size, n_heads, query_len, key_len]이므로\n",
        "            이는 src_mask에서 0인 토큰의 key_value를 '의미없음'을 나타내는 매우 작은 값으로 변경하는 코드이다.\n",
        "            '''\n",
        "\n",
        "        # 어텐션(attention) 스코어 계산: 각 단어에 대한 확률 값\n",
        "        attention = torch.softmax(energy, dim=-1) # softmax 활성화 함수를 통해 각 energy 값을 확률 형태로 바꿔준다.\n",
        "\n",
        "        # attention: [batch_size, n_heads, query_len, key_len]\n",
        "\n",
        "        # 여기에서 Scaled Dot-Product Attention을 계산\n",
        "        x = torch.matmul(self.dropout(attention), V)\n",
        "\n",
        "        # x: [batch_size, n_heads, query_len, head_dim]\n",
        "\n",
        "        x = x.permute(0, 2, 1, 3).contiguous()\n",
        "        # permute()하는 이유 : 다시 [batch_size, src_len, hidden_dim]으로 output을 출력하기 위함.\n",
        "        # contiguous() : torch 연산으로 인해 같은 배열의 원소들이 비연속적인 메모리에 저장될 수 있으므로 이를 해결하기 위해 연속적인 메모리 레이아웃에 텐서를 다시 할당하는 것.\n",
        "\n",
        "        # x: [batch_size, query_len, n_heads, head_dim]\n",
        "\n",
        "        x = x.view(batch_size, -1, self.hidden_dim)\n",
        "\n",
        "        # x: [batch_size, query_len, hidden_dim]\n",
        "\n",
        "        x = self.fc_o(x)\n",
        "\n",
        "        # x: [batch_size, query_len, hidden_dim]\n",
        "\n",
        "        return x, attention"
      ]
    },
    {
      "cell_type": "markdown",
      "metadata": {
        "id": "D4-71fGFUQ0P"
      },
      "source": [
        "#### **Position-wise Feedforward 아키텍처**\n",
        "\n",
        "* 입력과 출력의 차원이 동일합니다.\n",
        "* 하이퍼 파라미터(hyperparameter)\n",
        "    * **hidden_dim**: 하나의 단어에 대한 임베딩 차원\n",
        "    * **pf_dim**: Feedforward 레이어에서의 내부 임베딩 차원\n",
        "    * **dropout_ratio**: 드롭아웃(dropout) 비율"
      ]
    },
    {
      "cell_type": "code",
      "execution_count": null,
      "metadata": {
        "ExecuteTime": {
          "end_time": "2024-06-30T18:16:34.416696Z",
          "start_time": "2024-06-30T18:16:34.405261Z"
        },
        "id": "yBXPWolrUeYj"
      },
      "outputs": [],
      "source": [
        "class PositionwiseFeedforwardLayer(nn.Module):\n",
        "    def __init__(self, hidden_dim, pf_dim, dropout_ratio):\n",
        "        super().__init__()\n",
        "\n",
        "        self.fc_1 = nn.Linear(hidden_dim, pf_dim)\n",
        "        self.fc_2 = nn.Linear(pf_dim, hidden_dim)\n",
        "\n",
        "        self.dropout = nn.Dropout(dropout_ratio)\n",
        "\n",
        "    def forward(self, x):\n",
        "\n",
        "        # x: [batch_size, seq_len, hidden_dim]\n",
        "\n",
        "        x = self.dropout(torch.relu(self.fc_1(x)))\n",
        "\n",
        "        # x: [batch_size, seq_len, pf_dim]\n",
        "\n",
        "        x = self.fc_2(x)\n",
        "\n",
        "        # x: [batch_size, seq_len, hidden_dim]\n",
        "\n",
        "        return x"
      ]
    },
    {
      "cell_type": "markdown",
      "metadata": {
        "id": "evmxGJCTTF1x"
      },
      "source": [
        "#### **인코더(Encoder) 레이어 아키텍처**\n",
        "\n",
        "* 하나의 인코더 레이어에 대해 정의합니다.\n",
        "    * 입력과 출력의 차원이 같습니다.\n",
        "    * 이러한 특징을 이용해 트랜스포머의 인코더는 인코더 레이어를 여러 번 중첩해 사용합니다.\n",
        "* 하이퍼 파라미터(hyperparameter)\n",
        "    * **hidden_dim**: 하나의 단어에 대한 임베딩 차원\n",
        "    * **n_heads**: 헤드(head)의 개수 = scaled dot-product attention의 개수\n",
        "    * **pf_dim**: Feedforward 레이어에서의 내부 임베딩 차원\n",
        "    * **dropout_ratio**: 드롭아웃(dropout) 비율\n",
        "* &lt;pad&gt; 토큰에 대하여 마스크(mask) 값을 0으로 설정합니다."
      ]
    },
    {
      "cell_type": "code",
      "execution_count": null,
      "metadata": {
        "ExecuteTime": {
          "end_time": "2024-06-30T18:16:35.055539Z",
          "start_time": "2024-06-30T18:16:35.035782Z"
        },
        "id": "uTPD0jEbe1bx"
      },
      "outputs": [],
      "source": [
        "class EncoderLayer(nn.Module):\n",
        "    def __init__(self, hidden_dim, n_heads, pf_dim, dropout_ratio, device='cpu'):\n",
        "        super().__init__()\n",
        "\n",
        "        self.self_attn_layer_norm = nn.LayerNorm(hidden_dim)\n",
        "        self.ff_layer_norm = nn.LayerNorm(hidden_dim)\n",
        "        self.self_attention = MultiHeadAttentionLayer(hidden_dim, n_heads, dropout_ratio, device)\n",
        "        self.positionwise_feedforward = PositionwiseFeedforwardLayer(hidden_dim, pf_dim, dropout_ratio)\n",
        "        self.dropout = nn.Dropout(dropout_ratio)\n",
        "\n",
        "    # 하나의 임베딩이 복제되어 Query, Key, Value로 입력되는 방식\n",
        "    def forward(self, src, src_mask):\n",
        "\n",
        "        # src: [batch_size, src_len, hidden_dim]\n",
        "        # ⚠️src_mask: [batch_size, src_len] ?? NO >> src_mask: [batch_size, 1, 1, src_len]\n",
        "\n",
        "        # self attention\n",
        "        # 필요한 경우 마스크(mask) 행렬을 이용하여 어텐션(attention)할 단어를 조절 가능\n",
        "        _src, _ = self.self_attention(src, src, src, src_mask) # Query, Key, Value, Mask\n",
        "\n",
        "        # dropout, residual connection and layer norm\n",
        "        src = self.self_attn_layer_norm(src + self.dropout(_src))\n",
        "        '''\n",
        "        nn.LayerNorm() : 레이어 정규화(Layer Normalization) 클래스, 레이어 정규화는 신경망의 각 레이어의 출력을 정규화하여 훈련을 안정화시키고,\n",
        "        학습 속도를 향상시키는 데 사용된다. 이는 배치 정규화(Batch Normalization)와 비슷한 목적을 가지고 있지만,\n",
        "        배치 정규화는 배치 차원에 대해 정규화하는 반면, 레이어 정규화는 입력 텐서의 각 hidden 차원에 대해 정규화한다.\n",
        "        '''\n",
        "        # src + self.dropout(_src) : Residual connection으로 기울기 소실(vanishing gradient) 문제를 완화하고, 학습을 더 효과적으로 수행할 수 있도록 돕는 기술\n",
        "\n",
        "        # src: [batch_size, src_len, hidden_dim]\n",
        "\n",
        "        # position-wise feedforward\n",
        "        _src = self.positionwise_feedforward(src)\n",
        "        # 논문에 소개됐듯이 비선형성을 추가하고 더 구체적인 특징을 추출하고자 fc_layer를 2번 거치는 레이어가 추가됨.\n",
        "\n",
        "        # dropout, residual and layer norm\n",
        "        src = self.ff_layer_norm(src + self.dropout(_src))\n",
        "        # 다시 한 번 residual connection과 레이어 정규화 진행\n",
        "\n",
        "        # src: [batch_size, src_len, hidden_dim]\n",
        "\n",
        "        return src"
      ]
    },
    {
      "cell_type": "markdown",
      "metadata": {
        "id": "6RmMSlFXVkxN"
      },
      "source": [
        "*nn.Embedding()클래스에 대한 설명은 [블로그](https://song9ski-program.tistory.com/entry/Pytorch-nnEmbedding%EA%B3%BC-BertTokenizer%EB%A5%BC-%ED%99%9C%EC%9A%A9%ED%95%9C-%EC%9E%84%EB%B2%A0%EB%94%A9#%F0%9F%94%B8nn.Embedding%EC%9D%98%20%EC%A3%BC%EC%9A%94%20%ED%8C%8C%EB%9D%BC%EB%AF%B8%ED%84%B0-1)를 참고하세요.*\n",
        "\n",
        "#### **인코더(Encoder) 아키텍처**\n",
        "\n",
        "* 전체 인코더 아키텍처를 정의합니다.\n",
        "* 하이퍼 파라미터(hyperparameter)\n",
        "    * **input_dim**: 하나의 단어에 대한 원 핫 인코딩 차원\n",
        "    * **hidden_dim**: 하나의 단어에 대한 임베딩 차원\n",
        "    * **n_layers**: 내부적으로 사용할 인코더 레이어의 개수\n",
        "    * **n_heads**: 헤드(head)의 개수 = scaled dot-product attention의 개수\n",
        "    * **pf_dim**: Feedforward 레이어에서의 내부 임베딩 차원\n",
        "    * **dropout_ratio**: 드롭아웃(dropout) 비율\n",
        "    * **max_length**: 문장 내 최대 단어 개수\n",
        "* 원본 논문과는 다르게 <b>위치 임베딩(positional embedding)을 학습</b>하는 형태로 구현합니다.\n",
        "    * BERT와 같은 모던 트랜스포머 아키텍처에서 사용되는 방식입니다.\n",
        "* &lt;pad&gt; 토큰에 대하여 마스크(mask) 값을 0으로 설정합니다."
      ]
    },
    {
      "cell_type": "code",
      "execution_count": null,
      "metadata": {
        "ExecuteTime": {
          "end_time": "2024-06-30T18:16:35.741709Z",
          "start_time": "2024-06-30T18:16:35.725903Z"
        },
        "id": "LAd_op0bVhn-"
      },
      "outputs": [],
      "source": [
        "class Encoder(nn.Module):\n",
        "    def __init__(self, input_dim, hidden_dim, n_layers, n_heads, pf_dim, dropout_ratio, device='cpu', max_length=100):\n",
        "        super().__init__()\n",
        "\n",
        "        self.device = device\n",
        "\n",
        "        self.tok_embedding = nn.Embedding(input_dim, hidden_dim)\n",
        "        self.pos_embedding = nn.Embedding(max_length, hidden_dim)\n",
        "\n",
        "        self.layers = nn.ModuleList([EncoderLayer(hidden_dim, n_heads, pf_dim, dropout_ratio, device) for _ in range(n_layers)])\n",
        "\n",
        "        self.dropout = nn.Dropout(dropout_ratio)\n",
        "\n",
        "        self.scale = torch.sqrt(torch.FloatTensor([hidden_dim])).to(device)\n",
        "\n",
        "    def forward(self, src, src_mask):\n",
        "\n",
        "        # src: [batch_size, src_len]\n",
        "        # ⚠️src_mask: [batch_size, src_len] ?? NO >> src_mask: [batch_size, 1, 1, src_len]\n",
        "\n",
        "        batch_size = src.shape[0]\n",
        "        src_len = src.shape[1]\n",
        "\n",
        "        pos = torch.arange(0, src_len).unsqueeze(0).repeat(batch_size, 1).to(self.device)\n",
        "        # torch.arange(start,end) : start부터 end-1까지의 정수값을 생성 np.arange()와 동일.\n",
        "        # unsqueeze(0) : torch.arange(0,src_len)으로 [0,...,src_len-1]처럼 (src_len,)shape의 1차원 배열을 (1,src_len)으로 2차원으로 늘림.\n",
        "        # tensor_obj.repeat(x,y) : tensor_obj를 행으로 x만큼, 열로 y만큼 복제한다. >> repeat(batch_size,1)은 torch_obj를 행으로 torch.concat(,dim=0)을 batch_size만큼 한 것. >> (1,src_len)이 (128,src_len)으로 변함.\n",
        "\n",
        "        # pos: [batch_size, src_len]\n",
        "        '''\n",
        "        pos = [\n",
        "            [0,1,2,3,...,src_len-1까지],\n",
        "            ... batch_size행만큼 반복\n",
        "            [0,1,2,3,...,src_len-1까지]\n",
        "        ]\n",
        "        '''\n",
        "\n",
        "        # 소스 문장의 임베딩과 위치 임베딩을 더한 것을 사용\n",
        "        src = self.dropout((self.tok_embedding(src) * self.scale) + self.pos_embedding(pos))\n",
        "        # self.tok_embedding(src)의 output shape은 (batch_size, src_len, hidden_dim) 이다.\n",
        "        '''\n",
        "        nn.Embedding에서는 len(SRC.vocab) * hidden_dim 사이즈의 lookup table을 내부적으로 학습하게 되고,\n",
        "        tok_embedding(src) > src의 토큰들이 들어가게 되면 lookup table에서 각 토큰의 임베팅 벡터가 출력되어\n",
        "        output shape이 (batch_size, src_len, hidden_dim)이다.\n",
        "        '''\n",
        "        # self.scale을 곱하는 것 : self.scale의 값은 hidden_dim의 제곱근이다. > tok_embedding결과값들에 self.scale을 곱함으로써 임베딩 값의 분포를 조절하고 학습을 안정화시키는 효과를 얻을 수 있다고 한다.\n",
        "        # self.pos_embedding(pos)의 output shape도 (batch_size, src_len, hidden_dim) 이다.\n",
        "        '''\n",
        "        나동빈님은 positional encoding 대신 문장에서 토큰의 위치도 학습시켜 인코딩하는 방식을 선택하셨다.\n",
        "        이에 따라 pos_embedding에서도 max_length * hidden_dim 사이즈의 lookup table이 내부적으로 학습되고,\n",
        "        각 토큰들은 자신의 위치에 맞는 임베딩 벡터와 대응되어 출력된다.\n",
        "        따라서 output shape이 (batch_size, src_len, hidden_dim)이 된다.\n",
        "        '''\n",
        "        # self.dropout() : 입력 텐서의 일부 요소를 무작위로 0으로 만든다.\n",
        "\n",
        "        # src: [batch_size, src_len, hidden_dim]\n",
        "\n",
        "        # 모든 인코더 레이어를 차례대로 거치면서 순전파(forward) 수행\n",
        "        for layer in self.layers:\n",
        "            src = layer(src, src_mask)\n",
        "\n",
        "        # src: [batch_size, src_len, hidden_dim]\n",
        "\n",
        "        return src # 마지막 레이어의 출력을 반환"
      ]
    },
    {
      "cell_type": "markdown",
      "metadata": {
        "id": "NNP2S7g_Xeal"
      },
      "source": [
        "#### **디코더(Decoder) 레이어 아키텍처**\n",
        "\n",
        "* 하나의 디코더 레이어에 대해 정의합니다.\n",
        "    * 입력과 출력의 차원이 같습니다.\n",
        "    * 이러한 특징을 이용해 트랜스포머의 디코더는 디코더 레이어를 여러 번 중첩해 사용합니다.\n",
        "    * 디코더 레이어에서는 두 개의 Multi-Head Attention 레이어가 사용됩니다.\n",
        "* 하이퍼 파라미터(hyperparameter)\n",
        "    * **hidden_dim**: 하나의 단어에 대한 임베딩 차원\n",
        "    * **n_heads**: 헤드(head)의 개수 = scaled dot-product attention의 개수\n",
        "    * **pf_dim**: Feedforward 레이어에서의 내부 임베딩 차원\n",
        "    * **dropout_ratio**: 드롭아웃(dropout) 비율\n",
        "* 소스 문장의 &lt;pad&gt; 토큰에 대하여 마스크(mask) 값을 0으로 설정합니다.\n",
        "* 타겟 문장에서 각 단어는 다음 단어가 무엇인지 알 수 없도록(이전 단어만 보도록) 만들기 위해 마스크를 사용합니다."
      ]
    },
    {
      "cell_type": "code",
      "execution_count": null,
      "metadata": {
        "ExecuteTime": {
          "end_time": "2024-06-30T18:16:36.824426Z",
          "start_time": "2024-06-30T18:16:36.805644Z"
        },
        "id": "0jn4VCWdXhK5"
      },
      "outputs": [],
      "source": [
        "class DecoderLayer(nn.Module):\n",
        "    def __init__(self, hidden_dim, n_heads, pf_dim, dropout_ratio, device='cpu'):\n",
        "        super().__init__()\n",
        "\n",
        "        self.self_attn_layer_norm = nn.LayerNorm(hidden_dim)\n",
        "        self.enc_attn_layer_norm = nn.LayerNorm(hidden_dim)\n",
        "        self.ff_layer_norm = nn.LayerNorm(hidden_dim)\n",
        "        self.self_attention = MultiHeadAttentionLayer(hidden_dim, n_heads, dropout_ratio, device)\n",
        "        self.encoder_attention = MultiHeadAttentionLayer(hidden_dim, n_heads, dropout_ratio, device)\n",
        "        self.positionwise_feedforward = PositionwiseFeedforwardLayer(hidden_dim, pf_dim, dropout_ratio)\n",
        "        self.dropout = nn.Dropout(dropout_ratio)\n",
        "\n",
        "    # 인코더의 출력 값(enc_src)을 어텐션(attention)하는 구조\n",
        "    def forward(self, trg, enc_src, trg_mask, src_mask):\n",
        "\n",
        "        # trg: [batch_size, trg_len, hidden_dim]\n",
        "        # enc_src: [batch_size, src_len, hidden_dim]\n",
        "        # trg_mask: [batch_size, 1, trg_len, trg_len]\n",
        "        # src_mask: [batch_size, 1, 1, src_len]\n",
        "\n",
        "        # self attention\n",
        "        # 자기 자신에 대하여 어텐션(attention)\n",
        "        _trg, _ = self.self_attention(trg, trg, trg, trg_mask)\n",
        "        # EncoderLayer에서의 self_attention() 과정과 동일하다.\n",
        "\n",
        "        # dropout, residual connection and layer norm\n",
        "        trg = self.self_attn_layer_norm(trg + self.dropout(_trg))\n",
        "        # 마찬가지로 EncoderLayer에서의 residual connection과 layer normalization과 동일하다.\n",
        "\n",
        "        # trg: [batch_size, trg_len, hidden_dim]\n",
        "\n",
        "        # encoder attention : encoder에서 구한 key, value와 decoder의 query에 대해 attention mechanism을 적용한다.\n",
        "        # 디코더의 쿼리(Query)를 이용해 인코더를 어텐션(attention)\n",
        "        _trg, attention = self.encoder_attention(trg, enc_src, enc_src, src_mask)\n",
        "        # key, value 파라미터 자리에 encoder에서 구한 key, value 값(=enc_src)이 전달된다.\n",
        "\n",
        "        # dropout, residual connection and layer norm\n",
        "        trg = self.enc_attn_layer_norm(trg + self.dropout(_trg))\n",
        "        # 마찬가지로 EncoderLayer에서의 residual connection과 layer normalization과 동일하다.\n",
        "\n",
        "        # trg: [batch_size, trg_len, hidden_dim]\n",
        "\n",
        "        # positionwise feedforward\n",
        "        _trg = self.positionwise_feedforward(trg)\n",
        "        # 마찬가지로 EncoderLayer에서의 positionwise_feedforward와 동일하다.\n",
        "\n",
        "        # dropout, residual and layer norm\n",
        "        trg = self.ff_layer_norm(trg + self.dropout(_trg))\n",
        "        # 마찬가지로 EncoderLayer에서의 ff_layer_norm과 동일하다.\n",
        "\n",
        "        # trg: [batch_size, trg_len, hidden_dim]\n",
        "        # attention: [batch_size, n_heads, trg_len, src_len]\n",
        "\n",
        "        return trg, attention"
      ]
    },
    {
      "cell_type": "markdown",
      "metadata": {
        "id": "hK8AWlrcWWRc"
      },
      "source": [
        "#### **디코더(Decoder) 아키텍처**\n",
        "\n",
        "* 전체 디코더 아키텍처를 정의합니다.\n",
        "* 하이퍼 파라미터(hyperparameter)\n",
        "    * **output_dim**: 하나의 단어에 대한 원 핫 인코딩 차원\n",
        "    * **hidden_dim**: 하나의 단어에 대한 임베딩 차원\n",
        "    * **n_layers**: 내부적으로 사용할 인코더 레이어의 개수\n",
        "    * **n_heads**: 헤드(head)의 개수 = scaled dot-product attention의 개수\n",
        "    * **pf_dim**: Feedforward 레이어에서의 내부 임베딩 차원\n",
        "    * **dropout_ratio**: 드롭아웃(dropout) 비율\n",
        "    * **max_length**: 문장 내 최대 단어 개수\n",
        "* 원본 논문과는 다르게 <b>위치 임베딩(positional embedding)을 학습</b>하는 형태로 구현합니다.\n",
        "    * BERT와 같은 모던 트랜스포머 아키텍처에서 사용되는 방식입니다.\n",
        "* Seq2Seq과는 마찬가지로 실제로 추론(inference) 시기에서는 디코더를 반복적으로 넣을 필요가 있습니다.\n",
        "    * 학습(training) 시기에서는 한 번에 출력 문장을 구해 학습할 수 있습니다.\n",
        "* 소스 문장의 &lt;pad&gt; 토큰에 대하여 마스크(mask) 값을 0으로 설정합니다.\n",
        "* 타겟 문장에서 각 단어는 다음 단어가 무엇인지 알 수 없도록(이전 단어만 보도록) 만들기 위해 마스크를 사용합니다."
      ]
    },
    {
      "cell_type": "code",
      "execution_count": null,
      "metadata": {
        "ExecuteTime": {
          "end_time": "2024-06-30T18:16:37.865600Z",
          "start_time": "2024-06-30T18:16:37.856256Z"
        },
        "id": "X64at7IuWQcm"
      },
      "outputs": [],
      "source": [
        "class Decoder(nn.Module):\n",
        "    def __init__(self, output_dim, hidden_dim, n_layers, n_heads, pf_dim, dropout_ratio, device='cpu', max_length=100):\n",
        "        super().__init__()\n",
        "\n",
        "        self.device = device\n",
        "\n",
        "        self.tok_embedding = nn.Embedding(output_dim, hidden_dim)\n",
        "        self.pos_embedding = nn.Embedding(max_length, hidden_dim)\n",
        "\n",
        "        self.layers = nn.ModuleList([DecoderLayer(hidden_dim, n_heads, pf_dim, dropout_ratio, device) for _ in range(n_layers)])\n",
        "\n",
        "        self.fc_out = nn.Linear(hidden_dim, output_dim)\n",
        "\n",
        "        self.dropout = nn.Dropout(dropout_ratio)\n",
        "\n",
        "        self.scale = torch.sqrt(torch.FloatTensor([hidden_dim])).to(device)\n",
        "\n",
        "    def forward(self, trg, enc_src, trg_mask, src_mask):\n",
        "\n",
        "        # trg: [batch_size, trg_len]\n",
        "        # enc_src: [batch_size, src_len, hidden_dim]\n",
        "        # trg_mask : [batch_size, 1, trg_len, trg_len]\n",
        "        # src_mask: [batch_size, 1, 1, src_len]\n",
        "\n",
        "        batch_size = trg.shape[0]\n",
        "        trg_len = trg.shape[1]\n",
        "\n",
        "        # Encoder에서의 과정과 동일하다. target 문장도 임베딩을 진행한다.\n",
        "        pos = torch.arange(0, trg_len).unsqueeze(0).repeat(batch_size, 1).to(self.device)\n",
        "\n",
        "        # pos: [batch_size, trg_len]\n",
        "\n",
        "        trg = self.dropout((self.tok_embedding(trg) * self.scale) + self.pos_embedding(pos))\n",
        "\n",
        "        # trg: [batch_size, trg_len, hidden_dim]\n",
        "\n",
        "        for layer in self.layers:\n",
        "            # 소스 마스크와 타겟 마스크 모두 사용\n",
        "            trg, attention = layer(trg, enc_src, trg_mask, src_mask)\n",
        "\n",
        "        # trg: [batch_size, trg_len, hidden_dim]\n",
        "        # attention: [batch_size, n_heads, trg_len, src_len]\n",
        "\n",
        "        output = self.fc_out(trg)\n",
        "\n",
        "        # output: [batch_size, trg_len, output_dim]\n",
        "\n",
        "        return output, attention"
      ]
    },
    {
      "cell_type": "markdown",
      "metadata": {
        "id": "b50rQACqW3xX"
      },
      "source": [
        "#### **트랜스포머(Transformer) 아키텍처**\n",
        "\n",
        "* 최종적인 전체 트랜스포머(Transformer) 모델을 정의합니다.\n",
        "* 입력이 들어왔을 때 앞서 정의한 인코더와 디코더를 거쳐 출력 문장을 생성합니다."
      ]
    },
    {
      "cell_type": "code",
      "execution_count": null,
      "metadata": {
        "ExecuteTime": {
          "end_time": "2024-06-30T18:16:39.004910Z",
          "start_time": "2024-06-30T18:16:38.996876Z"
        },
        "id": "hBGN8VyvW0Et"
      },
      "outputs": [],
      "source": [
        "class Transformer(nn.Module):\n",
        "    def __init__(self, encoder, decoder, src_pad_idx, trg_pad_idx, device='cpu'):\n",
        "        super().__init__()\n",
        "\n",
        "        self.encoder = encoder\n",
        "        self.decoder = decoder\n",
        "        self.src_pad_idx = src_pad_idx\n",
        "        self.trg_pad_idx = trg_pad_idx\n",
        "        self.device = device\n",
        "\n",
        "    # 소스 문장의 <pad> 토큰에 대하여 마스크(mask) 값을 0으로 설정\n",
        "    def make_src_mask(self, src):\n",
        "        # print(\"make_src_mask() - src.shape :\",src.shape)\n",
        "        # src: [batch_size, src_len]\n",
        "\n",
        "        src_mask = (src != self.src_pad_idx).unsqueeze(1).unsqueeze(2)\n",
        "        # print(\"make_src_mask() - src_mask :\",src_mask)\n",
        "        # src_mask: [batch_size, 1, 1, src_len]\n",
        "        '''\n",
        "        토큰의 index가 1인 위치의 값은 0으로, <pad> 토큰이 아닌 의미 있는 토큰의 경우 값이 1로 바뀐다.\n",
        "        그리고 shape을 [batch_size, 1, 1, src_len] 이렇게 바꾼다.\n",
        "        '''\n",
        "\n",
        "        return src_mask\n",
        "\n",
        "    # 타겟 문장에서 각 단어는 다음 단어가 무엇인지 알 수 없도록(이전 단어만 보도록) 만들기 위해 마스크를 사용\n",
        "    def make_trg_mask(self, trg):\n",
        "        # print(\"make_trg_mask() - trg.shape :\",trg.shape)\n",
        "        # trg: [batch_size, trg_len]\n",
        "\n",
        "        \"\"\" (마스크 예시1)\n",
        "        1 0 0 0 0\n",
        "        1 1 0 0 0\n",
        "        1 1 1 0 0\n",
        "        1 1 1 0 0\n",
        "        1 1 1 0 0\n",
        "        \"\"\"\n",
        "        trg_pad_mask = (trg != self.trg_pad_idx).unsqueeze(1).unsqueeze(2)\n",
        "        # trg_pad_mask: [batch_size, 1, 1, trg_len]\n",
        "        # src_mask처럼 pad 토큰에 해당하는 부분은 의미없는 토큰이기 때문에\n",
        "        # decoder에서 생성할 필요가 없는 부분이라고 인식시키기 위함.\n",
        "\n",
        "        trg_len = trg.shape[1]\n",
        "\n",
        "        \"\"\" (마스크 예시2)\n",
        "        1 0 0 0 0\n",
        "        1 1 0 0 0\n",
        "        1 1 1 0 0\n",
        "        1 1 1 1 0\n",
        "        1 1 1 1 1\n",
        "        \"\"\"\n",
        "        trg_sub_mask = torch.tril(torch.ones((trg_len, trg_len), device = self.device)).bool()\n",
        "        # trg_sub_mask: [trg_len, trg_len]\n",
        "        # torch.tril() : 주어진 행렬의 '하삼각 행렬'을 반환한다. +) 하삼각 행렬 = 주대각 성분 위쪽의 모든 성분이 0인 정방행렬\n",
        "        # bool() : 1,0을 각각 True, False값으로 바꾼다.\n",
        "\n",
        "        trg_mask = trg_pad_mask & trg_sub_mask\n",
        "        # torch에서 자동으로 trg_sub_mask를 broadcasting하여 차원을 맞춘다.\n",
        "        # broadcast : trg_sub_mask의 차원이 (1,1,trg_len,trg_len)으로 바뀐다.\n",
        "        # &(AND) 연산 : 마지막 차원 trg_len에 대하여 &연산이 이루어진다.\n",
        "        '''\n",
        "        마스크 예시1과 마스크 예시2를 AND 연산 한 것이라 생각하면 된다.\n",
        "        1 0 0 0 0\n",
        "        1 1 0 0 0\n",
        "        1 1 1 0 0\n",
        "        1 1 1 0 0\n",
        "        1 1 1 0 0\n",
        "        '''\n",
        "\n",
        "        # trg_mask: [batch_size, 1, trg_len, trg_len]\n",
        "\n",
        "        return trg_mask\n",
        "\n",
        "    def forward(self, src, trg):\n",
        "\n",
        "        # src: [batch_size, src_len]\n",
        "        # trg: [batch_size, trg_len]\n",
        "\n",
        "        src_mask = self.make_src_mask(src)\n",
        "        trg_mask = self.make_trg_mask(trg)\n",
        "\n",
        "        # src_mask: [batch_size, 1, 1, src_len]\n",
        "        # trg_mask: [batch_size, 1, trg_len, trg_len]\n",
        "\n",
        "        enc_src = self.encoder(src, src_mask)\n",
        "\n",
        "        # enc_src: [batch_size, src_len, hidden_dim]\n",
        "\n",
        "        output, attention = self.decoder(trg, enc_src, trg_mask, src_mask)\n",
        "\n",
        "        # output: [batch_size, trg_len, output_dim]\n",
        "        # attention: [batch_size, n_heads, trg_len, src_len]\n",
        "\n",
        "        return output, attention"
      ]
    },
    {
      "cell_type": "markdown",
      "metadata": {
        "id": "lnBKjEFFqHrV"
      },
      "source": [
        "#### **학습(Training)**\n",
        "\n",
        "* 하이퍼 파라미터 설정 및 모델 초기화"
      ]
    },
    {
      "cell_type": "code",
      "execution_count": null,
      "metadata": {
        "id": "_W_RA2rDbwne"
      },
      "outputs": [],
      "source": [
        "len(SRC.vocab), len(TRG.vocab)"
      ]
    },
    {
      "cell_type": "code",
      "execution_count": null,
      "metadata": {
        "ExecuteTime": {
          "end_time": "2024-06-30T18:16:40.064716Z",
          "start_time": "2024-06-30T18:16:40.045357Z"
        },
        "id": "vJG6xhUaXZ32"
      },
      "outputs": [],
      "source": [
        "INPUT_DIM = len(SRC.vocab)\n",
        "OUTPUT_DIM = len(TRG.vocab)\n",
        "HIDDEN_DIM = 256\n",
        "ENC_LAYERS = 3\n",
        "DEC_LAYERS = 3\n",
        "ENC_HEADS = 8\n",
        "DEC_HEADS = 8\n",
        "ENC_PF_DIM = 512\n",
        "DEC_PF_DIM = 512\n",
        "ENC_DROPOUT = 0.1\n",
        "DEC_DROPOUT = 0.1"
      ]
    },
    {
      "cell_type": "code",
      "execution_count": null,
      "metadata": {
        "id": "qe7PUmy1bwnf"
      },
      "outputs": [],
      "source": [
        "SRC_PAD_IDX = SRC.vocab.stoi[SRC.pad_token]\n",
        "TRG_PAD_IDX = TRG.vocab.stoi[TRG.pad_token]\n",
        "\n",
        "print(SRC_PAD_IDX)\n",
        "print(TRG_PAD_IDX)"
      ]
    },
    {
      "cell_type": "code",
      "execution_count": null,
      "metadata": {
        "ExecuteTime": {
          "end_time": "2024-06-30T18:16:41.221330Z",
          "start_time": "2024-06-30T18:16:40.705523Z"
        },
        "id": "rVgG8VOYXbIk"
      },
      "outputs": [],
      "source": [
        "# 인코더(encoder)와 디코더(decoder) 객체 선언\n",
        "enc = Encoder(INPUT_DIM, HIDDEN_DIM, ENC_LAYERS, ENC_HEADS, ENC_PF_DIM, ENC_DROPOUT,device, max_length = max_length+50) # max_length를 넉넉히 설정해야 positional_embedding 시 index 오류가 안 남.\n",
        "dec = Decoder(OUTPUT_DIM, HIDDEN_DIM, DEC_LAYERS, DEC_HEADS, DEC_PF_DIM, DEC_DROPOUT, device, max_length = max_length+50)\n",
        "\n",
        "# Transformer 객체 선언\n",
        "model = Transformer(enc, dec, SRC_PAD_IDX, TRG_PAD_IDX, device).to(device)"
      ]
    },
    {
      "cell_type": "markdown",
      "metadata": {
        "id": "_B1BkZkUqQjo"
      },
      "source": [
        "* **모델 가중치 파라미터 초기화**"
      ]
    },
    {
      "cell_type": "code",
      "execution_count": null,
      "metadata": {
        "ExecuteTime": {
          "end_time": "2024-06-30T18:16:42.552691Z",
          "start_time": "2024-06-30T18:16:42.535427Z"
        },
        "id": "cnCu5WAyXmes"
      },
      "outputs": [],
      "source": [
        "def count_parameters(model):\n",
        "    return sum(p.numel() for p in model.parameters() if p.requires_grad)\n",
        "\n",
        "print(f'The model has {count_parameters(model):,} trainable parameters')"
      ]
    },
    {
      "cell_type": "code",
      "execution_count": null,
      "metadata": {
        "ExecuteTime": {
          "end_time": "2024-06-30T18:16:43.089815Z",
          "start_time": "2024-06-30T18:16:42.955502Z"
        },
        "id": "VEY3bppUXndU"
      },
      "outputs": [],
      "source": [
        "def initialize_weights(m):\n",
        "    if hasattr(m, 'weight') and m.weight.dim() > 1:\n",
        "        nn.init.xavier_uniform_(m.weight.data)\n",
        "\n",
        "model.apply(initialize_weights)"
      ]
    },
    {
      "cell_type": "markdown",
      "metadata": {
        "id": "WsdTndLDqWQf"
      },
      "source": [
        "* 학습 및 평가 함수 정의\n",
        "    * 기본적인 Seq2Seq 모델과 거의 유사하게 작성할 수 있습니다."
      ]
    },
    {
      "cell_type": "code",
      "execution_count": null,
      "metadata": {
        "ExecuteTime": {
          "end_time": "2024-06-30T18:16:46.074927Z",
          "start_time": "2024-06-30T18:16:44.635322Z"
        },
        "id": "m6-92JSlXrwM"
      },
      "outputs": [],
      "source": [
        "import torch.optim as optim\n",
        "\n",
        "# Adam optimizer로 학습 최적화\n",
        "LEARNING_RATE = 0.0005\n",
        "optimizer = torch.optim.Adam(model.parameters(), lr=LEARNING_RATE)\n",
        "\n",
        "# 뒷 부분의 패딩(padding)에 대해서는 값 무시\n",
        "criterion = nn.CrossEntropyLoss(ignore_index = TRG_PAD_IDX)"
      ]
    },
    {
      "cell_type": "code",
      "execution_count": null,
      "metadata": {
        "ExecuteTime": {
          "end_time": "2024-06-30T18:16:48.521375Z",
          "start_time": "2024-06-30T18:16:48.513364Z"
        },
        "id": "tcIltwlRXssU"
      },
      "outputs": [],
      "source": [
        "# 모델 학습(train) 함수\n",
        "def train(model, iterator, optimizer, criterion, clip):\n",
        "    model.train() # 학습 모드\n",
        "    epoch_loss = 0\n",
        "\n",
        "    # 전체 학습 데이터를 확인하며\n",
        "    for i, batch in enumerate(iterator):\n",
        "        src = batch.src\n",
        "        trg = batch.trg\n",
        "\n",
        "        optimizer.zero_grad()\n",
        "\n",
        "        # 출력 단어의 마지막 인덱스()는 제외 >> <eos> 토큰을 제외하고 훈련시킴.\n",
        "        # 📢학습 시 <eos> 토큰을 제외하는 이유 : decoder에서 다음 단어를 예측하는 방식으로 학습하는데 <eos>은 예측할 대상이 아니기 때문이다.\n",
        "        # 입력을 할 때는 <sos>토큰부터 시작하도록 처리\n",
        "        # 📢학습 시 <sos> 토큰은 포함해야 하는 이유 : decoder가 첫 단어를 명확히 예측하기 위해서는 <sos>와 encoder의 key,value가 만나서 attention을 수행해야 한다.\n",
        "        output, _ = model(src, trg[:,:-1])\n",
        "\n",
        "        # output: [배치 크기, trg_len - 1, output_dim]\n",
        "        # trg: [배치 크기, trg_len]\n",
        "\n",
        "        output_dim = output.shape[-1]\n",
        "\n",
        "        output = output.contiguous().view(-1, output_dim)\n",
        "        # 출력 단어의 인덱스 0()은 제외\n",
        "        trg = trg[:,1:].contiguous().view(-1)\n",
        "\n",
        "        # output: [배치 크기 * trg_len - 1, output_dim]\n",
        "        # trg: [배치 크기 * trg len - 1]\n",
        "\n",
        "        # 모델의 출력 결과와 타겟 문장을 비교하여 손실 계산\n",
        "        loss = criterion(output, trg)\n",
        "        loss.backward() # 기울기(gradient) 계산\n",
        "\n",
        "        # 기울기(gradient) clipping 진행\n",
        "        torch.nn.utils.clip_grad_norm_(model.parameters(), clip)\n",
        "        # 📢gradient clipping : 기울기 폭주(gradient exploding) 문제를 해결하기 위해 사용되는 기법\n",
        "        # > clip_grad_norm_()함수가 모델 가중치들의 기울기를 모두 하나의 텐서로 묶어 L2-norm을 계산\n",
        "        # > L2-norm이 설정한 clip 임계값보다 크다면, 기울기의 방향은 유지한 채로 gradient값만 clip값으로 scaling하여 조절한다.\n",
        "        # > clipping된 기울기로 optimizer가 업데이트를 한다.\n",
        "\n",
        "        # 파라미터 업데이트\n",
        "        optimizer.step()\n",
        "\n",
        "        # 전체 손실 값 계산\n",
        "        epoch_loss += loss.item()\n",
        "\n",
        "    return epoch_loss / len(iterator)"
      ]
    },
    {
      "cell_type": "code",
      "execution_count": null,
      "metadata": {
        "ExecuteTime": {
          "end_time": "2024-06-30T18:16:50.233241Z",
          "start_time": "2024-06-30T18:16:50.217419Z"
        },
        "id": "69a5vBggXt4M"
      },
      "outputs": [],
      "source": [
        "# 모델 평가(evaluate) 함수\n",
        "def evaluate(model, iterator, criterion):\n",
        "    model.eval() # 평가 모드\n",
        "    epoch_loss = 0\n",
        "\n",
        "    with torch.no_grad():\n",
        "        # 전체 평가 데이터를 확인하며\n",
        "        for i, batch in enumerate(iterator):\n",
        "            src = batch.src\n",
        "            trg = batch.trg\n",
        "\n",
        "            # 출력 단어의 마지막 인덱스(<eos>)는 제외\n",
        "            # 입력을 할 때는 <sos>부터 시작하도록 처리\n",
        "            output, _ = model(src, trg[:,:-1])\n",
        "\n",
        "            # output: [배치 크기, trg_len - 1, output_dim]\n",
        "            # trg: [배치 크기, trg_len]\n",
        "\n",
        "            output_dim = output.shape[-1]\n",
        "\n",
        "            output = output.contiguous().view(-1, output_dim)\n",
        "            # 출력 단어의 인덱스 0(<sos>)은 제외\n",
        "            trg = trg[:,1:].contiguous().view(-1)\n",
        "\n",
        "            # output: [배치 크기 * trg_len - 1, output_dim]\n",
        "            # trg: [배치 크기 * trg len - 1]\n",
        "\n",
        "            # 모델의 출력 결과와 타겟 문장을 비교하여 손실 계산\n",
        "            loss = criterion(output, trg)\n",
        "\n",
        "            # 전체 손실 값 계산\n",
        "            epoch_loss += loss.item()\n",
        "\n",
        "    return epoch_loss / len(iterator)"
      ]
    },
    {
      "cell_type": "markdown",
      "metadata": {
        "id": "HdmhWLNcs76v"
      },
      "source": [
        "* 학습(training) 및 검증(validation) 진행\n",
        "    * **학습 횟수(epoch)**: 100"
      ]
    },
    {
      "cell_type": "code",
      "execution_count": null,
      "metadata": {
        "ExecuteTime": {
          "end_time": "2024-06-30T18:16:51.342466Z",
          "start_time": "2024-06-30T18:16:51.325861Z"
        },
        "id": "HPjtaQ6CXvGk"
      },
      "outputs": [],
      "source": [
        "import math\n",
        "import time\n",
        "\n",
        "def epoch_time(start_time, end_time):\n",
        "    elapsed_time = end_time - start_time\n",
        "    elapsed_mins = int(elapsed_time / 60)\n",
        "    elapsed_secs = int(elapsed_time - (elapsed_mins * 60))\n",
        "    return elapsed_mins, elapsed_secs"
      ]
    },
    {
      "cell_type": "code",
      "execution_count": null,
      "metadata": {
        "ExecuteTime": {
          "end_time": "2024-06-30T18:19:24.690478Z",
          "start_time": "2024-06-30T18:17:30.388347Z"
        },
        "id": "XTe-5FdvXwdE",
        "scrolled": true
      },
      "outputs": [],
      "source": [
        "import time\n",
        "import math\n",
        "import random\n",
        "\n",
        "# 환경 변수 설정\n",
        "# os.environ['TORCH_USE_CUDA_DSA'] = '1'\n",
        "# CUDA_LAUNCH_BLOCKING=1\n",
        "\n",
        "N_EPOCHS = 100\n",
        "CLIP = 1\n",
        "best_valid_loss = float('inf')\n",
        "patience = 0\n",
        "past_epoch = 0\n",
        "\n",
        "for epoch in range(N_EPOCHS):\n",
        "    start_time = time.time() # 시작 시간 기록\n",
        "\n",
        "    train_loss = train(model, train_iterator, optimizer, criterion, CLIP)\n",
        "    valid_loss = evaluate(model, valid_iterator, criterion)\n",
        "\n",
        "    end_time = time.time() # 종료 시간 기록\n",
        "    epoch_mins, epoch_secs = epoch_time(start_time, end_time)\n",
        "\n",
        "    if valid_loss < best_valid_loss:\n",
        "        best_valid_loss = valid_loss\n",
        "        if past_epoch == epoch - 1 :\n",
        "            patience += 1\n",
        "        else:\n",
        "            patience = 0\n",
        "        if patience == 8:\n",
        "            torch.save(model.state_dict(), 'transformer_korean_to_english.pt')\n",
        "            print(\"Early stopped after 20 epochs. Epoch :\",epoch)\n",
        "            break\n",
        "    else:\n",
        "        patience = 0\n",
        "    past_epoch = epoch\n",
        "\n",
        "    print(f'Epoch: {epoch + 1:02} | Time: {epoch_mins}m {epoch_secs}s')\n",
        "    print(f'\\tTrain Loss: {train_loss:.3f} | Train PPL: {math.exp(train_loss):.3f}')\n",
        "    print(f'\\tValidation Loss: {valid_loss:.3f} | Validation PPL: {math.exp(valid_loss):.3f}')"
      ]
    },
    {
      "cell_type": "code",
      "execution_count": null,
      "metadata": {
        "id": "W1oT2_2yYCBM"
      },
      "outputs": [],
      "source": [
        "# # 학습된 모델 저장\n",
        "# from google.colab import files\n",
        "\n",
        "# files.download('transformer_german_to_english.pt')"
      ]
    },
    {
      "cell_type": "markdown",
      "metadata": {
        "id": "KvW5ZDUwwJaI"
      },
      "source": [
        "#### **모델 최종 테스트(testing) 결과 확인**"
      ]
    },
    {
      "cell_type": "code",
      "execution_count": null,
      "metadata": {
        "id": "YlO_lLD3wJx0"
      },
      "outputs": [],
      "source": [
        "# !wget https://postechackr-my.sharepoint.com/:u:/g/personal/dongbinna_postech_ac_kr/EbWFiKBmscFBrbzCQxRyqwsBwcXgdKdimkdsBl2dE9VYaQ?download=1 -O transformer_german_to_english.pt"
      ]
    },
    {
      "cell_type": "code",
      "execution_count": null,
      "metadata": {
        "id": "sScSSNYbwKPR"
      },
      "outputs": [],
      "source": [
        "# model.load_state_dict(torch.load('transformer_german_to_english.pt'))\n",
        "\n",
        "# test_loss = evaluate(model, test_iterator, criterion)\n",
        "\n",
        "# print(f'Test Loss: {test_loss:.3f} | Test PPL: {math.exp(test_loss):.3f}')"
      ]
    },
    {
      "cell_type": "markdown",
      "metadata": {
        "id": "lIE5KXd5wVUf"
      },
      "source": [
        "#### **나만의 데이터로 모델 사용해보기**\n",
        "\n",
        "* 테스트 데이터셋을 이용해 모델 테스트 진행"
      ]
    },
    {
      "cell_type": "code",
      "execution_count": null,
      "metadata": {
        "id": "plUPXH4UYKEU"
      },
      "outputs": [],
      "source": [
        "# 번역(translation) 함수\n",
        "def translate_sentence(sentence, src_field, trg_field, model, device, max_len=50, logging=True):\n",
        "    model.eval() # 평가 모드\n",
        "\n",
        "    if isinstance(sentence, str):\n",
        "        nlp = spacy.load('de')\n",
        "        tokens = [token.text.lower() for token in nlp(sentence)]\n",
        "    else:\n",
        "        tokens = [token.lower() for token in sentence]\n",
        "\n",
        "    # 처음에 <sos> 토큰, 마지막에 <eos> 토큰 붙이기\n",
        "    tokens = [src_field.init_token] + tokens + [src_field.eos_token]\n",
        "    if logging:\n",
        "        print(f\"전체 소스 토큰: {tokens}\")\n",
        "\n",
        "    src_indexes = [src_field.vocab.stoi[token] for token in tokens]\n",
        "    if logging:\n",
        "        print(f\"소스 문장 인덱스: {src_indexes}\")\n",
        "\n",
        "    src_tensor = torch.LongTensor(src_indexes).unsqueeze(0).to(device)\n",
        "\n",
        "    # 소스 문장에 따른 마스크 생성\n",
        "    src_mask = model.make_src_mask(src_tensor)\n",
        "\n",
        "    # 인코더(endocer)에 소스 문장을 넣어 출력 값 구하기\n",
        "    with torch.no_grad():\n",
        "        enc_src = model.encoder(src_tensor, src_mask)\n",
        "\n",
        "    # 처음에는 <sos> 토큰 하나만 가지고 있도록 하기\n",
        "    trg_indexes = [trg_field.vocab.stoi[trg_field.init_token]]\n",
        "\n",
        "    for i in range(max_len):\n",
        "        trg_tensor = torch.LongTensor(trg_indexes).unsqueeze(0).to(device)\n",
        "\n",
        "        # 출력 문장에 따른 마스크 생성\n",
        "        trg_mask = model.make_trg_mask(trg_tensor)\n",
        "\n",
        "        with torch.no_grad():\n",
        "            output, attention = model.decoder(trg_tensor, enc_src, trg_mask, src_mask)\n",
        "\n",
        "        # 출력 문장에서 가장 마지막 단어만 사용\n",
        "        pred_token = output.argmax(2)[:,-1].item()\n",
        "        trg_indexes.append(pred_token) # 출력 문장에 더하기\n",
        "\n",
        "        # <eos>를 만나는 순간 끝\n",
        "        if pred_token == trg_field.vocab.stoi[trg_field.eos_token]:\n",
        "            break\n",
        "\n",
        "    # 각 출력 단어 인덱스를 실제 단어로 변환\n",
        "    trg_tokens = [trg_field.vocab.itos[i] for i in trg_indexes]\n",
        "\n",
        "    # 첫 번째 <sos>는 제외하고 출력 문장 반환\n",
        "    return trg_tokens[1:], attention"
      ]
    },
    {
      "cell_type": "code",
      "execution_count": null,
      "metadata": {
        "id": "DZZufujhxNuO"
      },
      "outputs": [],
      "source": [
        "example_idx = 10\n",
        "\n",
        "src = vars(test_dataset.examples[example_idx])['src']\n",
        "trg = vars(test_dataset.examples[example_idx])['trg']\n",
        "\n",
        "print(f'소스 문장: {src}')\n",
        "print(f'타겟 문장: {trg}')\n",
        "\n",
        "translation, attention = translate_sentence(src, SRC, TRG, model, device, logging=True)\n",
        "\n",
        "print(\"모델 출력 결과:\", \" \".join(translation))"
      ]
    },
    {
      "cell_type": "markdown",
      "metadata": {
        "id": "SnRoAAEjyckb"
      },
      "source": [
        "* 어텐션 맵(Attention Map) 시각화"
      ]
    },
    {
      "cell_type": "code",
      "execution_count": null,
      "metadata": {
        "id": "7lNAb_YKYLmU"
      },
      "outputs": [],
      "source": [
        "import matplotlib.pyplot as plt\n",
        "import matplotlib.ticker as ticker\n",
        "import matplotlib\n",
        "matplotlib.rcParams['font.family'] = 'Malgun Gothic' # 한글 패치\n",
        "# ignore warning\n",
        "import warnings\n",
        "warnings.filterwarnings(\"ignore\")\n",
        "\n",
        "def display_attention(sentence, translation, attention, n_heads=8, n_rows=4, n_cols=2):\n",
        "\n",
        "    assert n_rows * n_cols == n_heads\n",
        "\n",
        "    # 출력할 그림 크기 조절\n",
        "    fig = plt.figure(figsize=(15, 25))\n",
        "\n",
        "    for i in range(n_heads):\n",
        "        ax = fig.add_subplot(n_rows, n_cols, i + 1)\n",
        "\n",
        "        # 어텐션(Attention) 스코어 확률 값을 이용해 그리기\n",
        "        _attention = attention.squeeze(0)[i].cpu().detach().numpy()\n",
        "\n",
        "        cax = ax.matshow(_attention, cmap='bone')\n",
        "\n",
        "        ax.tick_params(labelsize=12)\n",
        "        ax.set_xticklabels([''] + ['<sos>'] + [t.lower() for t in sentence] + ['<eos>'], rotation=45)\n",
        "        ax.set_yticklabels([''] + translation)\n",
        "\n",
        "        ax.xaxis.set_major_locator(ticker.MultipleLocator(1))\n",
        "        ax.yaxis.set_major_locator(ticker.MultipleLocator(1))\n",
        "\n",
        "        # color bar 추가\n",
        "        fig.colorbar(cax, ax=ax)\n",
        "\n",
        "    plt.show()\n",
        "    plt.close()"
      ]
    },
    {
      "cell_type": "code",
      "execution_count": null,
      "metadata": {
        "id": "OnCvQ5d8YMrj"
      },
      "outputs": [],
      "source": [
        "example_idx = 10\n",
        "\n",
        "src = vars(test_dataset.examples[example_idx])['src']\n",
        "trg = vars(test_dataset.examples[example_idx])['trg']\n",
        "\n",
        "print(f'소스 문장: {src}')\n",
        "print(f'타겟 문장: {trg}')\n",
        "\n",
        "translation, attention = translate_sentence(src, SRC, TRG, model, device, logging=True)\n",
        "\n",
        "print(\"모델 출력 결과:\", \" \".join(translation))"
      ]
    },
    {
      "cell_type": "code",
      "execution_count": null,
      "metadata": {
        "id": "glUG8EnJYPGc"
      },
      "outputs": [],
      "source": [
        "display_attention(src, translation, attention)"
      ]
    },
    {
      "cell_type": "markdown",
      "metadata": {
        "id": "t07uJBHB0Voo"
      },
      "source": [
        "#### <b>BLEU Score 계산</b>\n",
        "\n",
        "* 학습된 트랜스포머(Transformer) 모델의 BLEU 스코어 계산"
      ]
    },
    {
      "cell_type": "code",
      "execution_count": null,
      "metadata": {
        "id": "C7hsjkOKb3HS"
      },
      "outputs": [],
      "source": [
        "from torchtext.data.metrics import bleu_score\n",
        "\n",
        "def show_bleu(data, src_field, trg_field, model, device, max_len=50):\n",
        "    trgs = []\n",
        "    pred_trgs = []\n",
        "    index = 0\n",
        "\n",
        "    for datum in data:\n",
        "        src = vars(datum)['src']\n",
        "        trg = vars(datum)['trg']\n",
        "\n",
        "        pred_trg, _ = translate_sentence(src, src_field, trg_field, model, device, max_len, logging=False)\n",
        "\n",
        "        # 마지막 <eos> 토큰 제거\n",
        "        pred_trg = pred_trg[:-1]\n",
        "\n",
        "        pred_trgs.append(pred_trg)\n",
        "        trgs.append([trg])\n",
        "\n",
        "        index += 1\n",
        "        if (index + 1) % 100 == 0:\n",
        "            print(f\"[{index + 1}/{len(data)}]\")\n",
        "            print(f\"예측: {pred_trg}\")\n",
        "            print(f\"정답: {trg}\")\n",
        "\n",
        "    bleu = bleu_score(pred_trgs, trgs, max_n=4, weights=[0.25, 0.25, 0.25, 0.25])\n",
        "    print(f'Total BLEU Score = {bleu*100:.2f}')\n",
        "\n",
        "    individual_bleu1_score = bleu_score(pred_trgs, trgs, max_n=4, weights=[1, 0, 0, 0])\n",
        "    individual_bleu2_score = bleu_score(pred_trgs, trgs, max_n=4, weights=[0, 1, 0, 0])\n",
        "    individual_bleu3_score = bleu_score(pred_trgs, trgs, max_n=4, weights=[0, 0, 1, 0])\n",
        "    individual_bleu4_score = bleu_score(pred_trgs, trgs, max_n=4, weights=[0, 0, 0, 1])\n",
        "\n",
        "    print(f'Individual BLEU1 score = {individual_bleu1_score*100:.2f}')\n",
        "    print(f'Individual BLEU2 score = {individual_bleu2_score*100:.2f}')\n",
        "    print(f'Individual BLEU3 score = {individual_bleu3_score*100:.2f}')\n",
        "    print(f'Individual BLEU4 score = {individual_bleu4_score*100:.2f}')\n",
        "\n",
        "    cumulative_bleu1_score = bleu_score(pred_trgs, trgs, max_n=4, weights=[1, 0, 0, 0])\n",
        "    cumulative_bleu2_score = bleu_score(pred_trgs, trgs, max_n=4, weights=[1/2, 1/2, 0, 0])\n",
        "    cumulative_bleu3_score = bleu_score(pred_trgs, trgs, max_n=4, weights=[1/3, 1/3, 1/3, 0])\n",
        "    cumulative_bleu4_score = bleu_score(pred_trgs, trgs, max_n=4, weights=[1/4, 1/4, 1/4, 1/4])\n",
        "\n",
        "    print(f'Cumulative BLEU1 score = {cumulative_bleu1_score*100:.2f}')\n",
        "    print(f'Cumulative BLEU2 score = {cumulative_bleu2_score*100:.2f}')\n",
        "    print(f'Cumulative BLEU3 score = {cumulative_bleu3_score*100:.2f}')\n",
        "    print(f'Cumulative BLEU4 score = {cumulative_bleu4_score*100:.2f}')"
      ]
    },
    {
      "cell_type": "code",
      "execution_count": null,
      "metadata": {
        "id": "XXM8yzc8ZtgE"
      },
      "outputs": [],
      "source": [
        "show_bleu(test_dataset, SRC, TRG, model, device)"
      ]
    }
  ],
  "metadata": {
    "colab": {
      "machine_shape": "hm",
      "provenance": []
    },
    "kernelspec": {
      "display_name": "Python 3",
      "name": "python3"
    },
    "language_info": {
      "codemirror_mode": {
        "name": "ipython",
        "version": 3
      },
      "file_extension": ".py",
      "mimetype": "text/x-python",
      "name": "python",
      "nbconvert_exporter": "python",
      "pygments_lexer": "ipython3",
      "version": "3.10.0"
    },
    "toc": {
      "base_numbering": 1,
      "nav_menu": {},
      "number_sections": false,
      "sideBar": true,
      "skip_h1_title": false,
      "title_cell": "Table of Contents",
      "title_sidebar": "Contents",
      "toc_cell": false,
      "toc_position": {},
      "toc_section_display": true,
      "toc_window_display": false
    }
  },
  "nbformat": 4,
  "nbformat_minor": 0
}