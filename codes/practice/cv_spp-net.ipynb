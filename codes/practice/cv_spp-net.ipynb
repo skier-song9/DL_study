{
 "cells": [
  {
   "cell_type": "code",
   "execution_count": 1,
   "metadata": {},
   "outputs": [],
   "source": [
    "import os\n",
    "import time\n",
    "from tqdm import tqdm\n",
    "\n",
    "import pandas as pd\n",
    "import numpy as np\n",
    "import torch\n",
    "import torch.nn as nn\n",
    "import cv2\n",
    "\n",
    "import matplotlib.pyplot as plt\n",
    "\n",
    "import torch\n",
    "from torch.utils.data import Dataset, DataLoader, TensorDataset\n",
    "import torch.nn as nn\n",
    "import torch.nn.functional as F\n",
    "import torch.optim as optim\n",
    "from torch.autograd import Variable\n",
    "from torch.nn import Parameter\n",
    "from torch import Tensor\n"
   ]
  },
  {
   "cell_type": "code",
   "execution_count": 2,
   "metadata": {},
   "outputs": [
    {
     "data": {
      "text/plain": [
       "'/mnt/d/SKH'"
      ]
     },
     "execution_count": 2,
     "metadata": {},
     "output_type": "execute_result"
    }
   ],
   "source": [
    "os.getcwd()"
   ]
  },
  {
   "cell_type": "code",
   "execution_count": 3,
   "metadata": {},
   "outputs": [
    {
     "name": "stdout",
     "output_type": "stream",
     "text": [
      "/mnt/d/SKH/Github_Projects/DL_study\n"
     ]
    }
   ],
   "source": [
    "dir = \"/mnt/d/SKH/Github_Projects/DL_study/\"\n",
    "os.chdir(dir)\n",
    "print(os.getcwd())\n",
    "data_dir = 'data/MNIST'\n",
    "train_df = pd.read_csv(os.path.join(data_dir,'mnist_train.csv'))\n",
    "test_df = pd.read_csv(os.path.join(data_dir,'mnist_test.csv'))"
   ]
  },
  {
   "cell_type": "code",
   "execution_count": 4,
   "metadata": {},
   "outputs": [
    {
     "data": {
      "text/plain": [
       "(60000, 785)"
      ]
     },
     "execution_count": 4,
     "metadata": {},
     "output_type": "execute_result"
    }
   ],
   "source": [
    "train_df.shape"
   ]
  },
  {
   "cell_type": "code",
   "execution_count": 5,
   "metadata": {},
   "outputs": [],
   "source": [
    "X, y = train_df.iloc[:10001,1:].values, train_df.iloc[:10001,0].values\n",
    "X.shape\n",
    "train_df = train_df.iloc[:10001]"
   ]
  },
  {
   "cell_type": "code",
   "execution_count": 6,
   "metadata": {},
   "outputs": [],
   "source": [
    "from sklearn.preprocessing import LabelEncoder\n",
    "from torchvision import transforms\n",
    "class CustomDataset(torch.utils.data.Dataset):\n",
    "    def __init__(self, df, tf=None, is_test=False):\n",
    "        self.image_data = df.iloc[:,1:].values\n",
    "        self.is_test = is_test\n",
    "        self.encoder = None\n",
    "        self.label_data = None\n",
    "        if not self.is_test:\n",
    "            self.encoder = LabelEncoder()\n",
    "            labels = self.encoder.fit_transform(df.iloc[:,0])\n",
    "            self.label_data = labels\n",
    "        self.tf = tf\n",
    "    def __len__(self):\n",
    "        return len(self.image_data)\n",
    "    def __getitem__(self, index):\n",
    "        img = self.image_data[index]\n",
    "        img = img.astype(np.uint8).reshape(28, 28)\n",
    "        img = self.tf(img)\n",
    "        if self.is_test:\n",
    "            return img\n",
    "        label = self.label_data[index]\n",
    "        return img, label"
   ]
  },
  {
   "cell_type": "code",
   "execution_count": 7,
   "metadata": {},
   "outputs": [],
   "source": [
    "tf = transforms.Compose([\n",
    "    transforms.ToPILImage(),\n",
    "    # transforms.Resize((231,231), interpolation=transforms.InterpolationMode.BICUBIC, antialias=True),\n",
    "    transforms.ToTensor(),\n",
    "    transforms.Normalize(mean=[0.5], std=[0.5])\n",
    "])\n",
    "\n",
    "from sklearn.model_selection import StratifiedKFold\n",
    "skf = StratifiedKFold(n_splits=5, shuffle=True, random_state=42)\n",
    "for train_idxs, val_idxs in skf.split(X,y):\n",
    "    break\n",
    "\n",
    "train_dataset = CustomDataset(train_df.iloc[train_idxs], tf=tf, is_test=False)\n",
    "val_dataset = CustomDataset(train_df.iloc[val_idxs], tf=tf, is_test=False)\n",
    "test_dataset = CustomDataset(test_df, tf=tf, is_test=True)"
   ]
  },
  {
   "cell_type": "code",
   "execution_count": 8,
   "metadata": {},
   "outputs": [],
   "source": [
    "# DataLoader\n",
    "batch_size = 256\n",
    "g = torch.Generator()\n",
    "g.manual_seed(42)\n",
    "train_loader = DataLoader(dataset=train_dataset, batch_size=batch_size, shuffle=True, generator=g)\n",
    "val_loader = DataLoader(dataset=val_dataset, batch_size=batch_size, shuffle=False)\n",
    "test_loader = DataLoader(dataset=test_dataset, batch_size=batch_size, shuffle=False)"
   ]
  },
  {
   "cell_type": "code",
   "execution_count": 15,
   "metadata": {},
   "outputs": [],
   "source": [
    "import copy\n",
    "class EarlyStopping:\n",
    "    def __init__(self, patience=5, min_delta=1e5, restore_best_weights=True):\n",
    "        self.patience = patience\n",
    "        self.min_delta = min_delta\n",
    "        self.restore_best_weights = restore_best_weights\n",
    "        self.best_model_state_dict = None\n",
    "        self.best_loss = None\n",
    "        self.counter = 0\n",
    "        self.status = \"\"\n",
    "\n",
    "    def __call__(self, model, val_loss):\n",
    "        if self.best_loss is None:\n",
    "            self.best_loss = val_loss\n",
    "            self.best_model_state_dict = copy.deepcopy(model.state_dict())\n",
    "        elif self.best_loss - val_loss >= self.min_delta:\n",
    "            self.best_model_state_dict = copy.deepcopy(model.state_dict())\n",
    "            self.best_loss = val_loss\n",
    "            self.counter = 0\n",
    "            self.status = f\"Improvement found, counter reset to {self.counter}\"\n",
    "        else:\n",
    "            self.counter += 1\n",
    "            self.status = f\"No improvement in the last {self.counter} epochs\"\n",
    "            if self.counter >= self.patience:\n",
    "                self.status = f\"Early stopping triggered after {self.counter} epochs.\"\n",
    "                if self.restore_best_weights and self.best_model_state_dict is not None:\n",
    "                    model.load_state_dict(self.best_model_state_dict )\n",
    "                return True\n",
    "        return False\n",
    "        \n",
    "    def restore_best(self, model):\n",
    "        if self.best_model_state_dict is not None:\n",
    "            model.load_state_dict(self.best_model_state_dict)\n",
    "from tqdm import tqdm\n",
    "def train(model, train_loader, criterion, optimizer, device='cpu'):\n",
    "    # 1 epoch train cycle\n",
    "    model.train()\n",
    "    running_loss = 0.0\n",
    "    correct = 0 # classification\n",
    "    total = 0\n",
    "\n",
    "    for train_x, train_y in train_loader: # batch training\n",
    "        train_x, train_y = train_x.to(device), train_y.to(device)\n",
    "\n",
    "        optimizer.zero_grad() # 이전 gradient 초기화\n",
    "        # outputs = model(train_x)\n",
    "        # loss = criterion(outputs, train_y)\n",
    "\t\t\t\t\t\n",
    "        logits, probs = model(train_x) # classification\n",
    "        loss = criterion(logits, train_y) # classification\n",
    "        loss.backward() # backward pass\n",
    "        optimizer.step() # 가중치 업데이트\n",
    "\n",
    "        running_loss += loss.item() # train_loss * batch_size\n",
    "        _, predicted = torch.max(probs, 1) # 가장 확률 높은 클래스 예측 # classification\n",
    "        correct += (predicted == train_y).sum().item() # classification\n",
    "        total += train_y.size(0) \n",
    "\n",
    "    epoch_loss = running_loss / total # average loss of 1 epoch\n",
    "    epoch_acc = 100 * correct / total # classification\n",
    "    return epoch_loss , epoch_acc  # classification\n",
    "def validate(model, val_loader, criterion, optimizer, device='cpu'):\n",
    "    model.eval()  # 평가 모드\n",
    "    val_loss = 0\n",
    "    correct = 0 # classification\n",
    "    total = 0\n",
    "\n",
    "    with torch.no_grad():  # gradient 계산 비활성화\n",
    "        for val_x, val_y in val_loader: # batch training\n",
    "            val_x, val_y = val_x.to(device), val_y.to(device)\n",
    "\t\t\t\t\t\t\n",
    "            # outputs = model(val_x)\n",
    "            # loss = criterion(outputs, val_y)\n",
    "\t\t\t\t\t\n",
    "            logits, probs = model(val_x) # classification\n",
    "            loss = criterion(logits, val_y) # classification\n",
    "\n",
    "            val_loss += loss.item()\n",
    "            _, predicted = torch.max(probs, 1) # classification\n",
    "            correct += (predicted == val_y).sum().item() # classification\n",
    "            total += val_y.size(0)\n",
    "\n",
    "    epoch_loss = val_loss / total # average loss of 1 epoch\n",
    "    epoch_acc = 100 * correct / total # classification\n",
    "    return epoch_loss , epoch_acc # classification"
   ]
  },
  {
   "cell_type": "code",
   "execution_count": 10,
   "metadata": {},
   "outputs": [
    {
     "data": {
      "text/plain": [
       "'/mnt/d/SKH/Github_Projects/DL_study'"
      ]
     },
     "execution_count": 10,
     "metadata": {},
     "output_type": "execute_result"
    }
   ],
   "source": [
    "import os\n",
    "os.getcwd()"
   ]
  },
  {
   "cell_type": "code",
   "execution_count": 31,
   "metadata": {},
   "outputs": [],
   "source": [
    "from codes.cv import spatial_pyramid_pool\n",
    "class SPPNet(nn.Module):\n",
    "    def __init__(self, n_classes, levels):\n",
    "        # with respect to Overfeat-7\n",
    "        super(SPPNet, self).__init__()\n",
    "        self.total_bins = np.sum([level**2 for level in levels])\n",
    "        self.feature_extractor = nn.Sequential(\n",
    "            # [K, 231, 231] : K= #filters, H=Height, W=Width\n",
    "            # H/W = floor({(H/W-F+2P)/stride})+1\n",
    "            # pooling H/W = floor({(H/W-F)/2})+1\n",
    "            nn.Conv2d(in_channels=1, out_channels=96, kernel_size=3, stride=1, padding=1), # [96, 28, 28]\n",
    "            nn.BatchNorm2d(num_features=96),\n",
    "            nn.ReLU(),\n",
    "            nn.MaxPool2d(kernel_size=2, stride=2), # [96, 14, 14]\n",
    "            nn.Conv2d(in_channels=96, out_channels=256, kernel_size=3, stride=1, padding=1), # [256, 14, 14] # pad = floor(f/2) > 크기 유지\n",
    "            nn.BatchNorm2d(num_features=256),\n",
    "            nn.ReLU(),\n",
    "            nn.MaxPool2d(kernel_size=2, stride=2), # [256, 7, 7]\n",
    "            nn.Conv2d(in_channels=256, out_channels=512, kernel_size=3, stride=1, padding=1), # [512, 7, 7]\n",
    "            nn.BatchNorm2d(num_features=512),\n",
    "            nn.ReLU(),\n",
    "            nn.Conv2d(in_channels=512, out_channels=1024, kernel_size=3, stride=1, padding=1), # [1024, 7, 7]\n",
    "            nn.BatchNorm2d(num_features=1024),\n",
    "            nn.ReLU(),\n",
    "            nn.Conv2d(in_channels=1024, out_channels=1024, kernel_size=3, stride=1, padding=1), # [1024, 7, 7]\n",
    "            nn.BatchNorm2d(num_features=1024),\n",
    "            nn.ReLU(),\n",
    "            # nn.MaxPool2d(kernel_size=2, stride=2), # [1024, 7, 7]\n",
    "            spatial_pyramid_pool.SpatialPyramidPooling(levels=levels, mode='max') # 1024 * sum(level^2)\n",
    "        )\n",
    "        self.classifier = nn.Sequential(\n",
    "            nn.Flatten(), # \n",
    "            nn.Linear(in_features=1024 * self.total_bins, out_features=3072),\n",
    "            nn.BatchNorm1d(3072),\n",
    "            nn.ReLU(),\n",
    "            nn.Dropout(0.1),\n",
    "            nn.Linear(in_features=3072, out_features=4096),\n",
    "            nn.BatchNorm1d(4096),\n",
    "            nn.ReLU(),\n",
    "            nn.Dropout(0.1),\n",
    "            nn.Linear(in_features=4096, out_features=n_classes)\n",
    "        )\n",
    "    def forward(self, x):\n",
    "        # print(\"1.\",x.shape)\n",
    "        x = self.feature_extractor(x)\n",
    "        # print(\"2.\",x.shape)\n",
    "        logits = self.classifier(x)\n",
    "        probs = logits.softmax(dim=1)\n",
    "        return logits, probs\n"
   ]
  },
  {
   "cell_type": "code",
   "execution_count": 32,
   "metadata": {},
   "outputs": [
    {
     "data": {
      "text/plain": [
       "'cuda'"
      ]
     },
     "execution_count": 32,
     "metadata": {},
     "output_type": "execute_result"
    }
   ],
   "source": [
    "device = 'cuda' if torch.cuda.is_available() else 'cpu'\n",
    "device"
   ]
  },
  {
   "cell_type": "code",
   "execution_count": 33,
   "metadata": {},
   "outputs": [],
   "source": [
    "model = SPPNet(n_classes=10, levels=[1,2,3]).to(device)\n",
    "criterion = nn.CrossEntropyLoss()\n",
    "optimizer = torch.optim.AdamW(model.parameters(), lr=1e-4)\n",
    "scheduler = torch.optim.lr_scheduler.ReduceLROnPlateau(optimizer, mode='min', factor=0.01, min_lr=5e-5)"
   ]
  },
  {
   "cell_type": "code",
   "execution_count": 34,
   "metadata": {},
   "outputs": [
    {
     "name": "stdout",
     "output_type": "stream",
     "text": [
      "Epoch 1/1024 [Time: 95.87s], Train Loss: 0.0009, Validation Loss: 0.00916324\n",
      " Train ACC: 92.64, Validation ACC: 37.23\n",
      "Epoch 5/1024 [Time: 27.63s], Train Loss: 0.0000, Validation Loss: 0.00020986\n",
      " Train ACC: 100.00, Validation ACC: 98.40\n",
      "Epoch 10/1024 [Time: 16.23s], Train Loss: 0.0000, Validation Loss: 0.00019981\n",
      " Train ACC: 100.00, Validation ACC: 98.60\n",
      "Epoch 15/1024 [Time: 17.47s], Train Loss: 0.0000, Validation Loss: 0.00020805\n",
      " Train ACC: 100.00, Validation ACC: 98.60\n"
     ]
    }
   ],
   "source": [
    "# Full Implementation\n",
    "# criterion, optimizer, scheduler, earlystopping 사용\n",
    "EPOCHS = 1024\n",
    "patience = 15\n",
    "best_loss = float('inf')\n",
    "epoch_counter = 0\n",
    "done = False\n",
    "\n",
    "es = EarlyStopping(patience=patience)\n",
    "train_losses_for_plot, val_losses_for_plot = [], []\n",
    "train_acc_for_plot, val_acc_for_plot = [], []\n",
    "epoch_timer = []\n",
    "while not done and epoch_counter<EPOCHS:\n",
    "    st = time.time()\n",
    "    epoch_counter += 1\n",
    "    \n",
    "    train_loss, train_acc = train( # classification\n",
    "        model, train_loader, criterion, optimizer, device=device\n",
    "    )\n",
    "    train_losses_for_plot.append(train_loss)\n",
    "    train_acc_for_plot.append(train_acc) # classification\n",
    "        \n",
    "    # validation\n",
    "    val_loss, val_acc = validate( # classification\n",
    "        model, val_loader, criterion, optimizer, device=device\n",
    "    )\n",
    "    val_losses_for_plot.append(val_loss)\n",
    "    val_acc_for_plot.append(val_acc) # classification\n",
    "    \n",
    "    scheduler.step(val_loss) # scheduler의 종류에 따라 val_loss를 전달하거나 그냥 step() 호출.\n",
    "    epoch_timer.append(time.time() - st)\n",
    "    if es(model, val_loss):\n",
    "        done = True\n",
    "    if epoch_counter == 1 or epoch_counter % 5 == 0: # 50번째 epoch 마다\n",
    "        mean_time_spent = np.mean(epoch_timer)\n",
    "        epoch_timer = []\n",
    "        print(f\"Epoch {epoch_counter}/{EPOCHS} [Time: {mean_time_spent:.2f}s], Train Loss: {train_loss:.4f}, Validation Loss: {val_loss:.8f}\\n Train ACC: {train_acc:.2f}, Validation ACC: {val_acc:.2f}\") # classification"
   ]
  },
  {
   "cell_type": "code",
   "execution_count": 35,
   "metadata": {},
   "outputs": [
    {
     "data": {
      "image/png": "[encoded data removed]",
      "text/plain": [
       "<Figure size 640x480 with 1 Axes>"
      ]
     },
     "metadata": {},
     "output_type": "display_data"
    },
    {
     "data": {
      "image/png": "[encoded data removed]",
      "text/plain": [
       "<Figure size 600x400 with 1 Axes>"
      ]
     },
     "metadata": {},
     "output_type": "display_data"
    }
   ],
   "source": [
    "import matplotlib.pyplot as plt\n",
    "plt.plot(range(len(train_losses_for_plot)),train_losses_for_plot,color='blue',label='train_loss')\n",
    "plt.plot(range(len(val_losses_for_plot)),val_losses_for_plot,color='red',label='val_loss')\n",
    "plt.legend()\n",
    "\n",
    "# run.log({'loss_plot': wandb.Image(fig)}) # wandb\n",
    "\n",
    "# classification\n",
    "fig, ax = plt.subplots(figsize=(6, 4))\n",
    "plt.plot(range(len(train_acc_for_plot)),train_acc_for_plot,color='blue',label='train_acc')\n",
    "plt.plot(range(len(val_acc_for_plot)),val_acc_for_plot,color='red',label='val_acc')\n",
    "plt.axhline(y=99.0, color='red', linestyle='--', label='(99%)')\n",
    "plt.legend()\n",
    "\n",
    "# run.log({'accuracy_plot': wandb.Image(fig)}) # wandb\n",
    "\n",
    "plt.show()"
   ]
  },
  {
   "cell_type": "code",
   "execution_count": 36,
   "metadata": {},
   "outputs": [],
   "source": [
    "# load best model\n",
    "es.restore_best(model)\n",
    "\n",
    "model.eval()\n",
    "preds = []\n",
    "with torch.no_grad():\n",
    "    for img in test_loader:\n",
    "        img = img.to(device)\n",
    "        logits, probs = model(img)\n",
    "        _, predicted = torch.max(probs, dim=1)\n",
    "        preds.extend(predicted.cpu().numpy())\n",
    "\n",
    "pred_labels = train_dataset.encoder.inverse_transform(preds)"
   ]
  },
  {
   "cell_type": "code",
   "execution_count": 37,
   "metadata": {},
   "outputs": [
    {
     "name": "stdout",
     "output_type": "stream",
     "text": [
      "test accuracy: 36.960%\n"
     ]
    }
   ],
   "source": [
    "gt = test_df['label'].values\n",
    "gt_label = train_dataset.encoder.inverse_transform(gt)\n",
    "\n",
    "test_correct = (gt == preds).sum().item()\n",
    "test_acc = (test_correct/len(gt))*100\n",
    "print(f\"test accuracy: {test_acc:.3f}%\")"
   ]
  },
  {
   "cell_type": "code",
   "execution_count": 38,
   "metadata": {},
   "outputs": [
    {
     "data": {
      "image/png": "[encoded data removed]",
      "text/plain": [
       "<Figure size 1000x500 with 16 Axes>"
      ]
     },
     "metadata": {},
     "output_type": "display_data"
    }
   ],
   "source": [
    "images = next(iter(test_loader))\n",
    "fig = plt.figure(figsize=(10,5))\n",
    "for i in range(16):\n",
    "    fig.add_subplot(4,4, i+1)\n",
    "    plt.imshow(images[i].reshape(28,28), cmap='gray')\n",
    "    plt.axis('off')\n",
    "    plt.tight_layout()\n",
    "    plt.title(f'pred: {pred_labels[i]}, gt: {gt_label[i]}')\n",
    "plt.show()"
   ]
  },
  {
   "cell_type": "code",
   "execution_count": null,
   "metadata": {},
   "outputs": [],
   "source": []
  }
 ],
 "metadata": {
  "kernelspec": {
   "display_name": "Python 3 (ipykernel)",
   "language": "python",
   "name": "python3"
  },
  "language_info": {
   "codemirror_mode": {
    "name": "ipython",
    "version": 3
   },
   "file_extension": ".py",
   "mimetype": "text/x-python",
   "name": "python",
   "nbconvert_exporter": "python",
   "pygments_lexer": "ipython3",
   "version": "3.11.11"
  }
 },
 "nbformat": 4,
 "nbformat_minor": 2
}
